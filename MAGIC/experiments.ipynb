{
  "cells": [
    {
      "cell_type": "code",
      "source": [
        "# --- repo setup ---\n",
        "import os, sys, subprocess\n",
        "\n",
        "REPO_URL = \"https://github.com/Wmeesena/Safe_Start.git\"\n",
        "REPO_DIR = \"/content/Safe_Start/MAGIC\"\n",
        "\n",
        "if not os.path.isdir(REPO_DIR):\n",
        "    subprocess.run([\"git\", \"clone\", REPO_URL], check=True)\n",
        "\n",
        "# if you use Git LFS, uncomment these two lines:\n",
        "# subprocess.run([\"apt-get\", \"-y\", \"install\", \"git-lfs\"], check=True)\n",
        "# subprocess.run([\"git\", \"-C\", REPO_DIR, \"lfs\", \"pull\"], check=True)\n",
        "\n",
        "# go to repo root and make imports like `from src...` work\n",
        "os.chdir(REPO_DIR)\n",
        "sys.path.append(REPO_DIR)\n",
        "\n",
        "# optional: pull submodules if you have any\n",
        "# subprocess.run([\"git\", \"-C\", REPO_DIR, \"submodule\", \"update\", \"--init\", \"--recursive\"], check=True)\n",
        "\n",
        "print(\"CWD:\", os.getcwd())\n",
        "%pip install ucimlrepo\n",
        "%pip install -U ipython"
      ],
      "metadata": {
        "id": "W3kZmNrbd7zo",
        "outputId": "a69210b0-9787-47a4-c36a-81b0e1b47bef",
        "colab": {
          "base_uri": "https://localhost:8080/",
          "height": 1000
        }
      },
      "execution_count": 1,
      "outputs": [
        {
          "output_type": "stream",
          "name": "stdout",
          "text": [
            "CWD: /content/Safe_Start/MAGIC\n",
            "Collecting ucimlrepo\n",
            "  Downloading ucimlrepo-0.0.7-py3-none-any.whl.metadata (5.5 kB)\n",
            "Requirement already satisfied: pandas>=1.0.0 in /usr/local/lib/python3.12/dist-packages (from ucimlrepo) (2.2.2)\n",
            "Requirement already satisfied: certifi>=2020.12.5 in /usr/local/lib/python3.12/dist-packages (from ucimlrepo) (2025.8.3)\n",
            "Requirement already satisfied: numpy>=1.26.0 in /usr/local/lib/python3.12/dist-packages (from pandas>=1.0.0->ucimlrepo) (2.0.2)\n",
            "Requirement already satisfied: python-dateutil>=2.8.2 in /usr/local/lib/python3.12/dist-packages (from pandas>=1.0.0->ucimlrepo) (2.9.0.post0)\n",
            "Requirement already satisfied: pytz>=2020.1 in /usr/local/lib/python3.12/dist-packages (from pandas>=1.0.0->ucimlrepo) (2025.2)\n",
            "Requirement already satisfied: tzdata>=2022.7 in /usr/local/lib/python3.12/dist-packages (from pandas>=1.0.0->ucimlrepo) (2025.2)\n",
            "Requirement already satisfied: six>=1.5 in /usr/local/lib/python3.12/dist-packages (from python-dateutil>=2.8.2->pandas>=1.0.0->ucimlrepo) (1.17.0)\n",
            "Downloading ucimlrepo-0.0.7-py3-none-any.whl (8.0 kB)\n",
            "Installing collected packages: ucimlrepo\n",
            "Successfully installed ucimlrepo-0.0.7\n",
            "Requirement already satisfied: ipython in /usr/local/lib/python3.12/dist-packages (7.34.0)\n",
            "Collecting ipython\n",
            "  Downloading ipython-9.6.0-py3-none-any.whl.metadata (4.4 kB)\n",
            "Requirement already satisfied: decorator in /usr/local/lib/python3.12/dist-packages (from ipython) (4.4.2)\n",
            "Collecting ipython-pygments-lexers (from ipython)\n",
            "  Downloading ipython_pygments_lexers-1.1.1-py3-none-any.whl.metadata (1.1 kB)\n",
            "Collecting jedi>=0.16 (from ipython)\n",
            "  Downloading jedi-0.19.2-py2.py3-none-any.whl.metadata (22 kB)\n",
            "Requirement already satisfied: matplotlib-inline in /usr/local/lib/python3.12/dist-packages (from ipython) (0.1.7)\n",
            "Requirement already satisfied: pexpect>4.3 in /usr/local/lib/python3.12/dist-packages (from ipython) (4.9.0)\n",
            "Requirement already satisfied: prompt_toolkit<3.1.0,>=3.0.41 in /usr/local/lib/python3.12/dist-packages (from ipython) (3.0.52)\n",
            "Requirement already satisfied: pygments>=2.4.0 in /usr/local/lib/python3.12/dist-packages (from ipython) (2.19.2)\n",
            "Collecting stack_data (from ipython)\n",
            "  Downloading stack_data-0.6.3-py3-none-any.whl.metadata (18 kB)\n",
            "Collecting traitlets>=5.13.0 (from ipython)\n",
            "  Downloading traitlets-5.14.3-py3-none-any.whl.metadata (10 kB)\n",
            "Requirement already satisfied: parso<0.9.0,>=0.8.4 in /usr/local/lib/python3.12/dist-packages (from jedi>=0.16->ipython) (0.8.5)\n",
            "Requirement already satisfied: ptyprocess>=0.5 in /usr/local/lib/python3.12/dist-packages (from pexpect>4.3->ipython) (0.7.0)\n",
            "Requirement already satisfied: wcwidth in /usr/local/lib/python3.12/dist-packages (from prompt_toolkit<3.1.0,>=3.0.41->ipython) (0.2.14)\n",
            "Collecting executing>=1.2.0 (from stack_data->ipython)\n",
            "  Downloading executing-2.2.1-py2.py3-none-any.whl.metadata (8.9 kB)\n",
            "Collecting asttokens>=2.1.0 (from stack_data->ipython)\n",
            "  Downloading asttokens-3.0.0-py3-none-any.whl.metadata (4.7 kB)\n",
            "Collecting pure-eval (from stack_data->ipython)\n",
            "  Downloading pure_eval-0.2.3-py3-none-any.whl.metadata (6.3 kB)\n",
            "Downloading ipython-9.6.0-py3-none-any.whl (616 kB)\n",
            "\u001b[2K   \u001b[90m━━━━━━━━━━━━━━━━━━━━━━━━━━━━━━━━━━━━━━━━\u001b[0m \u001b[32m616.2/616.2 kB\u001b[0m \u001b[31m47.5 MB/s\u001b[0m eta \u001b[36m0:00:00\u001b[0m\n",
            "\u001b[?25hDownloading jedi-0.19.2-py2.py3-none-any.whl (1.6 MB)\n",
            "\u001b[2K   \u001b[90m━━━━━━━━━━━━━━━━━━━━━━━━━━━━━━━━━━━━━━━━\u001b[0m \u001b[32m1.6/1.6 MB\u001b[0m \u001b[31m88.0 MB/s\u001b[0m eta \u001b[36m0:00:00\u001b[0m\n",
            "\u001b[?25hDownloading traitlets-5.14.3-py3-none-any.whl (85 kB)\n",
            "\u001b[2K   \u001b[90m━━━━━━━━━━━━━━━━━━━━━━━━━━━━━━━━━━━━━━━━\u001b[0m \u001b[32m85.4/85.4 kB\u001b[0m \u001b[31m8.9 MB/s\u001b[0m eta \u001b[36m0:00:00\u001b[0m\n",
            "\u001b[?25hDownloading ipython_pygments_lexers-1.1.1-py3-none-any.whl (8.1 kB)\n",
            "Downloading stack_data-0.6.3-py3-none-any.whl (24 kB)\n",
            "Downloading asttokens-3.0.0-py3-none-any.whl (26 kB)\n",
            "Downloading executing-2.2.1-py2.py3-none-any.whl (28 kB)\n",
            "Downloading pure_eval-0.2.3-py3-none-any.whl (11 kB)\n",
            "Installing collected packages: pure-eval, traitlets, jedi, ipython-pygments-lexers, executing, asttokens, stack_data, ipython\n",
            "  Attempting uninstall: traitlets\n",
            "    Found existing installation: traitlets 5.7.1\n",
            "    Uninstalling traitlets-5.7.1:\n",
            "      Successfully uninstalled traitlets-5.7.1\n",
            "  Attempting uninstall: ipython\n",
            "    Found existing installation: ipython 7.34.0\n",
            "    Uninstalling ipython-7.34.0:\n",
            "      Successfully uninstalled ipython-7.34.0\n",
            "\u001b[31mERROR: pip's dependency resolver does not currently take into account all the packages that are installed. This behaviour is the source of the following dependency conflicts.\n",
            "google-colab 1.0.0 requires ipython==7.34.0, but you have ipython 9.6.0 which is incompatible.\u001b[0m\u001b[31m\n",
            "\u001b[0mSuccessfully installed asttokens-3.0.0 executing-2.2.1 ipython-9.6.0 ipython-pygments-lexers-1.1.1 jedi-0.19.2 pure-eval-0.2.3 stack_data-0.6.3 traitlets-5.14.3\n"
          ]
        },
        {
          "output_type": "display_data",
          "data": {
            "application/vnd.colab-display-data+json": {
              "pip_warning": {
                "packages": [
                  "IPython",
                  "traitlets"
                ]
              },
              "id": "b61d01ab7a29478d9f2d3fffb9245594"
            }
          },
          "metadata": {}
        }
      ]
    },
    {
      "cell_type": "code",
      "source": [
        "!ls"
      ],
      "metadata": {
        "id": "Czcjh_kvzrkX",
        "outputId": "0e057ecf-e394-4085-e548-898c29568b90",
        "colab": {
          "base_uri": "https://localhost:8080/"
        }
      },
      "execution_count": 7,
      "outputs": [
        {
          "output_type": "stream",
          "name": "stdout",
          "text": [
            "experiments.ipynb  src\n"
          ]
        }
      ]
    },
    {
      "cell_type": "code",
      "source": [
        "# test"
      ],
      "metadata": {
        "id": "81qhlx0mzzUv"
      },
      "execution_count": 6,
      "outputs": []
    },
    {
      "cell_type": "code",
      "source": [
        "%git add ."
      ],
      "metadata": {
        "id": "5B5MFVCY0BKP",
        "outputId": "49e30712-e1ae-4237-d476-05722771b736",
        "colab": {
          "base_uri": "https://localhost:8080/"
        }
      },
      "execution_count": 9,
      "outputs": [
        {
          "output_type": "stream",
          "name": "stderr",
          "text": [
            "UsageError: Line magic function `%git` not found.\n"
          ]
        }
      ]
    },
    {
      "cell_type": "markdown",
      "metadata": {
        "id": "Esiv89ZBb7ty"
      },
      "source": [
        "# Setup"
      ]
    },
    {
      "cell_type": "code",
      "execution_count": null,
      "metadata": {
        "id": "jnJGfrzWb7tz"
      },
      "outputs": [],
      "source": [
        "from ucimlrepo import fetch_ucirepo\n",
        "import pandas as pd\n",
        "import numpy as np\n",
        "import torch\n",
        "from src.models.mlp import MLP\n",
        "import torch.nn as nn\n",
        "import torch.optim as optim\n",
        "\n",
        "import matplotlib.pyplot as plt\n",
        "from src.train import pretrain, evaluate_avg_accuracy, evaluate_robust, joint_train\n",
        "\n",
        "\n",
        "%load_ext autoreload\n",
        "%autoreload 2\n"
      ]
    },
    {
      "cell_type": "markdown",
      "metadata": {
        "id": "WYgSymkkb7tz"
      },
      "source": [
        "# Data"
      ]
    },
    {
      "cell_type": "code",
      "execution_count": null,
      "metadata": {
        "id": "DLb9cyYsb7tz"
      },
      "outputs": [],
      "source": [
        "SIGMA = 40.0\n",
        "SAMPLES_EVAL = 5000\n",
        "GAMMA = 1000."
      ]
    },
    {
      "cell_type": "code",
      "execution_count": null,
      "metadata": {
        "id": "EDsOOmI7b7t0"
      },
      "outputs": [],
      "source": [
        "magic_gamma_telescope = fetch_ucirepo(id=159)\n",
        "\n",
        "# data (as pandas dataframes)\n",
        "X_df = magic_gamma_telescope.data.features\n",
        "y_df = magic_gamma_telescope.data.targets\n",
        "\n",
        "y_df = (y_df == 'g').astype(float)\n",
        "\n",
        "X_train_df = X_df.sample(n=15000, random_state=41)\n",
        "X_test_df = X_df.drop(X_train_df.index)\n",
        "\n",
        "y_train_df = y_df.loc[X_train_df.index]\n",
        "y_test_df = y_df.drop(y_train_df.index)\n",
        "\n",
        "\n",
        "# test positive only/negative only robustness\n",
        "\n",
        "X_test_positive_df = X_test_df.loc[y_test_df[\"class\"] == 1.0]\n",
        "X_test_negative_df = X_test_df.loc[y_test_df[\"class\"] == 0.0]\n",
        "y_test_positive_df = y_test_df.loc[y_test_df[\"class\"] == 1.0]\n",
        "y_test_negative_df =y_test_df.loc[y_test_df[\"class\"] == 0.0]\n",
        "\n",
        "\n",
        "# train positive only/negative only robustness\n",
        "\n",
        "X_train_positive_df = X_train_df.loc[y_train_df[\"class\"] == 1.0]\n",
        "X_train_negative_df = X_train_df.loc[y_train_df[\"class\"] == 0.0]\n",
        "y_train_positive_df = y_train_df.loc[y_train_df[\"class\"] == 1.0]\n",
        "y_train_negative_df =y_train_df.loc[y_train_df[\"class\"] == 0.0]\n"
      ]
    },
    {
      "cell_type": "code",
      "execution_count": null,
      "metadata": {
        "id": "5m-ZNF_rb7t0"
      },
      "outputs": [],
      "source": [
        "X_train = torch.tensor(X_train_df.values, dtype=torch.float32)\n",
        "X_test = torch.tensor(X_test_df.values, dtype=torch.float32)\n",
        "\n",
        "y_train = torch.tensor(y_train_df.values, dtype=torch.float32)\n",
        "y_test = torch.tensor(y_test_df.values, dtype=torch.float32)\n",
        "\n",
        "\n",
        "# train positive only/negative only robustness\n",
        "\n",
        "X_train_positive = torch.tensor(X_train_positive_df.values, dtype=torch.float32)\n",
        "X_train_negative = torch.tensor(X_train_negative_df.values, dtype=torch.float32)\n",
        "y_train_positive = torch.tensor(y_train_positive_df.values, dtype=torch.float32)\n",
        "y_train_negative = torch.tensor(y_train_negative_df.values, dtype=torch.float32)\n",
        "\n",
        "\n",
        "# test positive only/negative only robustness\n",
        "X_test_positive = torch.tensor(X_test_positive_df.values, dtype=torch.float32)\n",
        "X_test_negative = torch.tensor(X_test_negative_df.values, dtype=torch.float32)\n",
        "y_test_positive = torch.tensor(y_test_positive_df.values, dtype=torch.float32)\n",
        "y_test_negative = torch.tensor(y_test_negative_df.values, dtype=torch.float32)\n"
      ]
    },
    {
      "cell_type": "code",
      "execution_count": null,
      "metadata": {
        "id": "TBTrgPiyb7t0"
      },
      "outputs": [],
      "source": [
        "model = MLP(input_size=X_df.shape[1])\n",
        "pretrained_model = pretrain(X_train,y_train, model, num_epochs=1000)"
      ]
    },
    {
      "cell_type": "code",
      "execution_count": null,
      "metadata": {
        "id": "zfoom-X4b7t0",
        "outputId": "f9f6cc24-a82f-4481-b364-a43c7802412c",
        "colab": {
          "base_uri": "https://localhost:8080/"
        }
      },
      "outputs": [
        {
          "output_type": "stream",
          "name": "stdout",
          "text": [
            "Accuracy: 83.51%\n",
            "Robust Accuracy: 42.85989%\n",
            "Conditional Robust Accuracy: 38.79281%\n"
          ]
        }
      ],
      "source": [
        "pretrain_acc = evaluate_avg_accuracy(X_train, y_train,\n",
        "                                        pretrained_model)\n",
        "RA_pretrain, CRA_pretrain = evaluate_robust(X_test,\n",
        "                                        y_test, pretrained_model,\n",
        "                                        num_samples = SAMPLES_EVAL,\n",
        "                                        sigma = SIGMA)"
      ]
    },
    {
      "cell_type": "code",
      "execution_count": null,
      "metadata": {
        "id": "lD-9xsUtb7t0",
        "outputId": "220e1cd8-0032-43b9-f01f-3aa4f213acce",
        "colab": {
          "base_uri": "https://localhost:8080/"
        }
      },
      "outputs": [
        {
          "output_type": "stream",
          "name": "stdout",
          "text": [
            "0\n",
            "1\n",
            "2\n",
            "3\n",
            "4\n",
            "5\n",
            "6\n",
            "7\n",
            "8\n",
            "9\n",
            "10\n",
            "11\n",
            "12\n",
            "13\n",
            "14\n",
            "15\n",
            "16\n",
            "17\n",
            "18\n",
            "19\n",
            "20\n",
            "21\n",
            "22\n",
            "23\n",
            "24\n",
            "25\n",
            "26\n",
            "27\n",
            "28\n",
            "29\n",
            "30\n",
            "31\n",
            "32\n",
            "33\n",
            "34\n",
            "35\n",
            "36\n",
            "37\n",
            "38\n",
            "39\n",
            "40\n",
            "41\n",
            "42\n",
            "43\n",
            "44\n",
            "45\n",
            "46\n",
            "47\n",
            "48\n",
            "49\n",
            "50\n",
            "51\n",
            "52\n",
            "53\n",
            "54\n",
            "55\n",
            "56\n",
            "57\n",
            "58\n",
            "59\n",
            "60\n",
            "61\n",
            "62\n",
            "63\n",
            "64\n",
            "65\n",
            "66\n",
            "67\n",
            "68\n",
            "69\n",
            "70\n",
            "71\n",
            "72\n",
            "73\n",
            "74\n",
            "75\n",
            "76\n",
            "77\n",
            "78\n",
            "79\n",
            "80\n",
            "81\n",
            "82\n",
            "83\n",
            "84\n",
            "85\n",
            "86\n",
            "87\n",
            "88\n",
            "89\n",
            "90\n",
            "91\n",
            "92\n",
            "93\n",
            "94\n",
            "95\n",
            "96\n",
            "97\n",
            "98\n",
            "99\n",
            "0\n",
            "1\n",
            "2\n",
            "3\n",
            "4\n",
            "5\n",
            "6\n",
            "7\n",
            "8\n",
            "9\n",
            "10\n",
            "11\n",
            "12\n",
            "13\n",
            "14\n",
            "15\n",
            "16\n",
            "17\n",
            "18\n",
            "19\n",
            "20\n",
            "21\n",
            "22\n",
            "23\n",
            "24\n",
            "25\n",
            "26\n",
            "27\n",
            "28\n",
            "29\n",
            "30\n",
            "31\n",
            "32\n",
            "33\n",
            "34\n",
            "35\n",
            "36\n",
            "37\n",
            "38\n",
            "39\n",
            "40\n",
            "41\n",
            "42\n",
            "43\n",
            "44\n",
            "45\n",
            "46\n",
            "47\n",
            "48\n",
            "49\n",
            "50\n",
            "51\n",
            "52\n",
            "53\n",
            "54\n",
            "55\n",
            "56\n",
            "57\n",
            "58\n",
            "59\n",
            "60\n",
            "61\n",
            "62\n",
            "63\n",
            "64\n",
            "65\n",
            "66\n",
            "67\n",
            "68\n",
            "69\n",
            "70\n",
            "71\n",
            "72\n",
            "73\n",
            "74\n",
            "75\n",
            "76\n",
            "77\n",
            "78\n",
            "79\n",
            "80\n",
            "81\n",
            "82\n",
            "83\n",
            "84\n",
            "85\n",
            "86\n",
            "87\n",
            "88\n",
            "89\n",
            "90\n",
            "91\n",
            "92\n",
            "93\n",
            "94\n",
            "95\n",
            "96\n",
            "97\n",
            "98\n",
            "99\n",
            "0\n",
            "1\n",
            "2\n",
            "3\n",
            "4\n",
            "5\n",
            "6\n",
            "7\n",
            "8\n",
            "9\n",
            "10\n",
            "11\n",
            "12\n",
            "13\n",
            "14\n",
            "15\n",
            "16\n",
            "17\n",
            "18\n",
            "19\n",
            "20\n",
            "21\n",
            "22\n",
            "23\n",
            "24\n",
            "25\n",
            "26\n",
            "27\n",
            "28\n",
            "29\n",
            "30\n",
            "31\n",
            "32\n",
            "33\n",
            "34\n",
            "35\n",
            "36\n",
            "37\n",
            "38\n",
            "39\n",
            "40\n",
            "41\n",
            "42\n",
            "43\n",
            "44\n",
            "45\n",
            "46\n",
            "47\n",
            "48\n",
            "49\n",
            "50\n",
            "51\n",
            "52\n",
            "53\n",
            "54\n",
            "55\n",
            "56\n",
            "57\n",
            "58\n",
            "59\n",
            "60\n",
            "61\n",
            "62\n",
            "63\n",
            "64\n",
            "65\n",
            "66\n",
            "67\n",
            "68\n",
            "69\n",
            "70\n",
            "71\n",
            "72\n",
            "73\n",
            "74\n",
            "75\n",
            "76\n",
            "77\n",
            "78\n",
            "79\n",
            "80\n"
          ]
        }
      ],
      "source": [
        "naive_model = joint_train(X_train, y_train,\n",
        "                             X_train_positive, y_train_positive,\n",
        "                             pretrained_model, num_epochs = 100,\n",
        "                              gamma = GAMMA, num_samples = 100,\n",
        "                              sigma = SIGMA)\n",
        "safe_model = joint_train(X_train, y_train, X_train_positive,\n",
        "                        y_train_positive, pretrained_model,\n",
        "                         num_epochs = 100, gamma = GAMMA,\n",
        "                         num_samples = 100, sigma = SIGMA, IF_SAFE=True)\n",
        "\n",
        "safe_negative_model = joint_train(X_train, y_train, X_train_positive,\n",
        "                        y_train_positive, pretrained_model,\n",
        "                         num_epochs = 100, gamma = GAMMA,\n",
        "                         num_samples = 100, sigma = SIGMA, IF_SAFE=True, SAFE_BIAS = -1000)\n"
      ]
    },
    {
      "cell_type": "code",
      "execution_count": null,
      "metadata": {
        "id": "Dghu849zb7t0",
        "outputId": "b8bb7d86-b2cd-4c72-d90c-d1304897547a"
      },
      "outputs": [
        {
          "name": "stdout",
          "output_type": "stream",
          "text": [
            "Accuracy: 63.48%\n",
            "Robust Accuracy: 96.08697%\n",
            "Conditional Robust Accuracy: 96.08697%\n",
            "Accuracy: 68.11%\n",
            "Robust Accuracy: 98.86528%\n",
            "Conditional Robust Accuracy: 99.03251%\n"
          ]
        }
      ],
      "source": [
        "# naive continue training\n",
        "naive_acc = evaluate_avg_accuracy(X_test,\n",
        "                                         y_test,\n",
        "                                        naive_model)\n",
        "RA_naive, CRA_naive =  evaluate_robust(X_test_positive,\n",
        "                                                y_test_positive,\n",
        "                                                naive_model,\n",
        "                                                num_samples = SAMPLES_EVAL,\n",
        "                                                 sigma = SIGMA)\n",
        "\n",
        "# safe continue training\n",
        "\n",
        "safe_acc = evaluate_avg_accuracy(X_test,\n",
        "                                    y_test,\n",
        "                                    safe_model)\n",
        "RA_safe, CRA_safe = evaluate_robust(X_test_positive,\n",
        "                                                 y_test_positive,\n",
        "                                                 safe_model,\n",
        "                                                 num_samples = SAMPLES_EVAL, sigma = SIGMA)"
      ]
    },
    {
      "cell_type": "code",
      "execution_count": null,
      "metadata": {
        "id": "60X7rT1ab7t0"
      },
      "outputs": [],
      "source": []
    },
    {
      "cell_type": "code",
      "execution_count": null,
      "metadata": {
        "id": "YzOpNIiYb7t0",
        "outputId": "0efffdee-ba53-4271-efc9-1fc4e0e77947"
      },
      "outputs": [
        {
          "name": "stdout",
          "output_type": "stream",
          "text": [
            "Accuracy: 64.33%\n"
          ]
        },
        {
          "ename": "",
          "evalue": "",
          "output_type": "error",
          "traceback": [
            "\u001b[1;31mThe Kernel crashed while executing code in the current cell or a previous cell. \n",
            "\u001b[1;31mPlease review the code in the cell(s) to identify a possible cause of the failure. \n",
            "\u001b[1;31mClick <a href='https://aka.ms/vscodeJupyterKernelCrash'>here</a> for more info. \n",
            "\u001b[1;31mView Jupyter <a href='command:jupyter.viewOutput'>log</a> for further details."
          ]
        }
      ],
      "source": [
        "safe_model_1 = joint_train(X_train, y_train,\n",
        "                            X_train_positive, y_train_positive,\n",
        "                            pretrained_model, num_epochs = 1000,\n",
        "                            gamma = 10/QUANTILE, num_samples = 10, sigma = SIGMA,\n",
        "                            IF_SAFE=True)\n",
        "safe1_acc = evaluate_avg_accuracy(X_test,\n",
        "                                    y_test,\n",
        "                                    safe_model_1)\n",
        "safe1_positive_acc, safe_var = evaluate_robust(X_test_positive,\n",
        "                                                 y_test_positive,\n",
        "                                                 safe_model_1,\n",
        "                                                 num_samples = 100000, sigma = SIGMA,\n",
        "                                                 quantile = QUANTILE)"
      ]
    },
    {
      "cell_type": "code",
      "execution_count": null,
      "metadata": {
        "id": "3M09pZ0mb7t0",
        "outputId": "356694c9-753d-4403-d6ed-c4b012399bbb"
      },
      "outputs": [
        {
          "name": "stdout",
          "output_type": "stream",
          "text": [
            "Accuracy: 63.48%\n",
            "Mean Accuracy: 99.99581%\n",
            "1e-06 Quantile Accuracy: 99.51000%\n"
          ]
        }
      ],
      "source": [
        "naive_model_1 = joint_train(X_train, y_train,\n",
        "                         X_train_positive, y_train_positive,\n",
        "                         pretrained_model, num_epochs = 1000,\n",
        "                         gamma = 10/QUANTILE, num_samples = 10, sigma = SIGMA)\n",
        "naive1_acc = evaluate_avg_accuracy(X_test,\n",
        "                                    y_test,\n",
        "                                    naive_model_1)\n",
        "naive1_positive_acc, safe_var = evaluate_robust(X_test_positive,\n",
        "                                                 y_test_positive,\n",
        "                                                 naive_model_1,\n",
        "                                                 num_samples = 100000, sigma = SIGMA,\n",
        "                                                 quantile = QUANTILE)"
      ]
    },
    {
      "cell_type": "code",
      "execution_count": null,
      "metadata": {
        "id": "xVtDz1hsb7t1"
      },
      "outputs": [],
      "source": [
        "safe_model_1"
      ]
    }
  ],
  "metadata": {
    "kernelspec": {
      "display_name": "Python 3",
      "name": "python3"
    },
    "language_info": {
      "codemirror_mode": {
        "name": "ipython",
        "version": 3
      },
      "file_extension": ".py",
      "mimetype": "text/x-python",
      "name": "python",
      "nbconvert_exporter": "python",
      "pygments_lexer": "ipython3",
      "version": "3.9.6"
    },
    "colab": {
      "provenance": [],
      "gpuType": "L4"
    },
    "accelerator": "GPU"
  },
  "nbformat": 4,
  "nbformat_minor": 0
}