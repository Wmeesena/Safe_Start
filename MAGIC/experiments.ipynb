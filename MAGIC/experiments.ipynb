{
  "cells": [
    {
      "cell_type": "markdown",
      "metadata": {
        "id": "LajrWb1O3hdj"
      },
      "source": [
        "# Connect Git with  Colab"
      ]
    },
    {
      "cell_type": "code",
      "execution_count": 2,
      "metadata": {
        "colab": {
          "base_uri": "https://localhost:8080/"
        },
        "collapsed": true,
        "id": "s1jw0cKZ3hdj",
        "outputId": "2f8c466e-a623-4b9d-cc75-c7c3f4f82eae"
      },
      "outputs": [
        {
          "output_type": "stream",
          "name": "stdout",
          "text": [
            "$ git clone --depth 1 --branch main https://github.com/Wmeesena/Safe_Start.git /content/Safe_Start\n",
            "CWD: /content/Safe_Start/MAGIC\n",
            "main\n",
            "37a94136bd8a479db4d86509339f2f4cf585287e\n"
          ]
        }
      ],
      "source": [
        "# --- always get latest repo state in Colab ---\n",
        "import os, sys, subprocess\n",
        "\n",
        "REPO_URL  = \"https://github.com/Wmeesena/Safe_Start.git\"\n",
        "REPO_ROOT = \"/content/Safe_Start\"     # repo root\n",
        "WORKDIR   = os.path.join(REPO_ROOT, \"MAGIC\")\n",
        "BRANCH    = \"main\"\n",
        "\n",
        "def run(cmd):\n",
        "    print(\"$\", \" \".join(cmd))\n",
        "    subprocess.run(cmd, check=True)\n",
        "\n",
        "if not os.path.isdir(REPO_ROOT):\n",
        "    run([\"git\", \"clone\", \"--depth\", \"1\", \"--branch\", BRANCH, REPO_URL, REPO_ROOT])\n",
        "else:\n",
        "    run([\"git\", \"-C\", REPO_ROOT, \"fetch\", \"origin\"])\n",
        "    run([\"git\", \"-C\", REPO_ROOT, \"checkout\", BRANCH])\n",
        "    run([\"git\", \"-C\", REPO_ROOT, \"reset\", \"--hard\", f\"origin/{BRANCH}\"])\n",
        "\n",
        "\n",
        "# Set working dir and import path\n",
        "os.chdir(WORKDIR if os.path.isdir(WORKDIR) else REPO_ROOT)\n",
        "if REPO_ROOT not in sys.path:\n",
        "    sys.path.append(REPO_ROOT)\n",
        "\n",
        "print(\"CWD:\", os.getcwd())\n",
        "!git -C {REPO_ROOT} rev-parse --abbrev-ref HEAD\n",
        "!git -C {REPO_ROOT} rev-parse HEAD\n",
        "\n",
        "# installs\n",
        "%pip install -q ucimlrepo\n"
      ]
    },
    {
      "cell_type": "markdown",
      "metadata": {
        "id": "F_iSxtWy3hdj"
      },
      "source": [
        "# Setup"
      ]
    },
    {
      "cell_type": "code",
      "execution_count": 3,
      "metadata": {
        "id": "bP1k6Mzl3hdk"
      },
      "outputs": [],
      "source": [
        "from ucimlrepo import fetch_ucirepo\n",
        "import pandas as pd\n",
        "import numpy as np\n",
        "import torch\n",
        "from src.models.mlp import MLP\n",
        "import torch.nn as nn\n",
        "import torch.optim as optim\n",
        "from pprint import pprint\n",
        "import matplotlib.pyplot as plt\n",
        "from sklearn.tree import DecisionTreeClassifier, export_text\n",
        "from sklearn.metrics import accuracy_score, classification_report, confusion_matrix\n",
        "from src.train import pretrain,  joint_train, train_all, fit_dt\n",
        "from src.eval import evaluate_avg_accuracy, evaluate_robust, eval_one, eval_all, print_last_bias_mlp\n",
        "from src.utils import pct, pct_ci\n",
        "from src.plots import plot_loss_multi, plot_all_loss\n",
        "from src.data import load_magic_data\n",
        "\n",
        "# %load_ext autoreload\n",
        "# %autoreload 2\n"
      ]
    },
    {
      "cell_type": "markdown",
      "metadata": {
        "id": "jX3ViJ8T3hdk"
      },
      "source": [
        "# Data"
      ]
    },
    {
      "cell_type": "code",
      "execution_count": null,
      "metadata": {
        "id": "Gc3motAFaevv"
      },
      "outputs": [],
      "source": [
        "# Hyperparameters for checking on local\n",
        "SIGMA = 10.0\n",
        "SAMPLES_EVAL = 1\n",
        "SAMPLES_TRAIN = 1\n",
        "GAMMA = 1000.\n",
        "NUM_EPOCHS = 1\n",
        "NUM_EPOCHS_PRE = 1\n",
        "SAFE_BIAS = 1.0"
      ]
    },
    {
      "cell_type": "code",
      "execution_count": 48,
      "metadata": {
        "id": "XnJEYbFX3hdk"
      },
      "outputs": [],
      "source": [
        "# Hyperparameters for running on colab\n",
        "SIGMA = .2\n",
        "SAMPLES_EVAL = 500000\n",
        "SAMPLES_TRAIN = 100000\n",
        "GAMMA = 20000.\n",
        "NUM_EPOCHS = 100\n",
        "NUM_EPOCHS_PRE = 2000\n",
        "SAFE_BIAS = 1.0\n",
        "BATCH_SIZE = 1024"
      ]
    },
    {
      "cell_type": "code",
      "execution_count": 5,
      "metadata": {
        "id": "KFlckEHm3hdk"
      },
      "outputs": [],
      "source": [
        "X_train, y_train, X_test, y_test = load_magic_data()"
      ]
    },
    {
      "cell_type": "code",
      "execution_count": 6,
      "metadata": {
        "id": "uNiQHSZuaevv",
        "outputId": "3ce1f56b-a040-4ce2-94c8-ed74d2bc76d7",
        "colab": {
          "base_uri": "https://localhost:8080/"
        }
      },
      "outputs": [
        {
          "output_type": "stream",
          "name": "stdout",
          "text": [
            "Train class balance: {np.float32(0.0): np.int64(4879), np.float32(1.0): np.int64(9121)}\n",
            "Test  class balance: {np.float32(0.0): np.int64(1809), np.float32(1.0): np.int64(3211)}\n"
          ]
        }
      ],
      "source": [
        "unique, counts = np.unique(y_train, return_counts=True)\n",
        "print(\"Train class balance:\", dict(zip(unique, counts)))\n",
        "unique, counts = np.unique(y_test, return_counts=True)\n",
        "print(\"Test  class balance:\", dict(zip(unique, counts)))"
      ]
    },
    {
      "cell_type": "markdown",
      "metadata": {
        "id": "IkdZujCK3hdk"
      },
      "source": [
        "# Pretrain"
      ]
    },
    {
      "cell_type": "code",
      "source": [
        "# init_model = MLP(input_size=X_train.shape[1]).to(device)"
      ],
      "metadata": {
        "id": "hFzXz-4_i1j3"
      },
      "execution_count": 7,
      "outputs": []
    },
    {
      "cell_type": "code",
      "execution_count": 44,
      "metadata": {
        "id": "oBrW8Qo5pXuJ",
        "outputId": "4511f8fc-ac05-49a5-ef08-0a7fb05955ec",
        "colab": {
          "base_uri": "https://localhost:8080/",
          "height": 431,
          "referenced_widgets": [
            "78afd5303666422c80bdc423530b9d42",
            "fe21ce9545f541df972f87db62caf62f",
            "67feafbac7be43a7b5618352609ad79b",
            "ff0f4846896e480ab2d6079769e6640f",
            "1b9a2bac77d1445e9a7da8a11963cfba",
            "41d5beafb15e4ca99c2be48a52c0d439",
            "394a4954a25d4d6fb8b4085dbf97dc66",
            "b1d5d8189fd14ec8bd0bed624421595a",
            "9f37af500a4e400ba2a7d6ce439152eb",
            "e309b1f92d8f435897f0ef1a3bab00f3",
            "fb83a1003e26489094d104cad1724d8f"
          ]
        }
      },
      "outputs": [
        {
          "output_type": "display_data",
          "data": {
            "text/plain": [
              "Epochs:   0%|          | 0/2000 [00:00<?, ?it/s]"
            ],
            "application/vnd.jupyter.widget-view+json": {
              "version_major": 2,
              "version_minor": 0,
              "model_id": "78afd5303666422c80bdc423530b9d42"
            }
          },
          "metadata": {}
        },
        {
          "output_type": "stream",
          "name": "stderr",
          "text": [
            "Exception ignored in: <function _MultiProcessingDataLoaderIter.__del__ at 0x7d79c6b88fe0>\n",
            "Traceback (most recent call last):\n",
            "  File \"/usr/local/lib/python3.12/dist-packages/torch/utils/data/dataloader.py\", line 1664, in __del__\n",
            "    self._shutdown_workers()\n",
            "  File \"/usr/local/lib/python3.12/dist-packages/torch/utils/data/dataloader.py\", line 1647, in _shutdown_workers\n",
            "    if w.is_alive():\n",
            "       ^^^^^^^^^^^^\n",
            "  File \"/usr/lib/python3.12/multiprocessing/process.py\", line 160, in is_alive\n",
            "    assert self._parent_pid == os.getpid(), 'can only test a child process'\n",
            "           ^^^^^^^^^^^^^^^^^^^^^^^^^^^^^^^\n",
            "AssertionError: can only test a child process\n",
            "Exception ignored in: <function _MultiProcessingDataLoaderIter.__del__ at 0x7d79c6b88fe0>\n",
            "Traceback (most recent call last):\n",
            "  File \"/usr/local/lib/python3.12/dist-packages/torch/utils/data/dataloader.py\", line 1664, in __del__\n",
            "    self._shutdown_workers()\n",
            "  File \"/usr/local/lib/python3.12/dist-packages/torch/utils/data/dataloader.py\", line 1647, in _shutdown_workers\n",
            "    if w.is_alive():\n",
            "       ^^^^^^^^^^^^\n",
            "  File \"/usr/lib/python3.12/multiprocessing/process.py\", line 160, in is_alive\n",
            "    assert self._parent_pid == os.getpid(), 'can only test a child process'\n",
            "           ^^^^^^^^^^^^^^^^^^^^^^^^^^^^^^^\n",
            "AssertionError: can only test a child process\n"
          ]
        }
      ],
      "source": [
        "device = \"cuda\" if torch.cuda.is_available() else \"cpu\"\n",
        "model = MLP(input_size=X_train.shape[1]).to(device)\n",
        "pre_model = pretrain(X_train,y_train, model, num_epochs=NUM_EPOCHS_PRE)\n",
        "init_model = MLP(input_size=X_train.shape[1]).to(device)"
      ]
    },
    {
      "cell_type": "code",
      "execution_count": 45,
      "metadata": {
        "colab": {
          "base_uri": "https://localhost:8080/"
        },
        "id": "Idky3TWd3hdk",
        "outputId": "7d77812c-e5f2-4e72-a712-d46c40c0c2a2"
      },
      "outputs": [
        {
          "output_type": "stream",
          "name": "stdout",
          "text": [
            "Accuracy: 87.29%  (CI 95%: [86.34%, 88.18%])\n",
            "Robust Accuracy: 67.81514%  (CI 95%: [67.36317%, 68.34079%])\n",
            "Conditional Robust Accuracy: 71.89072%  (CI 95%: [71.47422%, 72.34891%])\n"
          ]
        }
      ],
      "source": [
        "_ = eval_one(\n",
        "    pre_model, X_test, y_test,\n",
        "    sigma=SIGMA, SAMPLES_EVAL=SAMPLES_EVAL,\n",
        "    J_chunk=5000,        # <= keep m small\n",
        "    N_chunk=512,      # <= keep B small\n",
        "    B=300             # <= lighter bootstrap\n",
        ")\n"
      ]
    },
    {
      "cell_type": "code",
      "source": [
        "print_last_bias_mlp(pre_model)"
      ],
      "metadata": {
        "id": "zHl2k9-dd_8g",
        "outputId": "f4103c0a-0914-4a1f-b492-299868826d91",
        "colab": {
          "base_uri": "https://localhost:8080/"
        }
      },
      "execution_count": 23,
      "outputs": [
        {
          "output_type": "stream",
          "name": "stdout",
          "text": [
            "fc_last.bias shape: (1,)\n",
            "[1.0278024673461914]\n"
          ]
        }
      ]
    },
    {
      "cell_type": "markdown",
      "metadata": {
        "id": "Iaj1oEHRaevv"
      },
      "source": [
        "# Check Data Topology: Random Forest"
      ]
    },
    {
      "cell_type": "markdown",
      "metadata": {
        "id": "zuKhPw8yaevv"
      },
      "source": [
        "One single split can lead to $73\\%$ accuracy."
      ]
    },
    {
      "cell_type": "code",
      "execution_count": 8,
      "metadata": {
        "id": "CRJAhIIeaevv"
      },
      "outputs": [],
      "source": [
        "# # 1) Decision stump (single split)\n",
        "# acc1, stump = fit_dt(\"Decision stump (max_depth=1)\",X_train,y_train,X_test,y_test,  max_depth=1)\n",
        "\n",
        "# # quick confusion matrix for the stump\n",
        "# cm = confusion_matrix(y_test, stump.predict(X_test))\n",
        "# print(\"\\nConfusion matrix (stump):\")\n",
        "# pprint(cm)\n"
      ]
    },
    {
      "cell_type": "markdown",
      "metadata": {
        "id": "r11MfJ603hdk"
      },
      "source": [
        "# Training"
      ]
    },
    {
      "cell_type": "code",
      "source": [
        "SIGMA"
      ],
      "metadata": {
        "id": "QU7FkIILSg7u",
        "outputId": "05be4df9-07ea-4138-901f-8ec2681daa84",
        "colab": {
          "base_uri": "https://localhost:8080/"
        }
      },
      "execution_count": 53,
      "outputs": [
        {
          "output_type": "execute_result",
          "data": {
            "text/plain": [
              "0.7"
            ]
          },
          "metadata": {},
          "execution_count": 53
        }
      ]
    },
    {
      "cell_type": "code",
      "execution_count": 82,
      "metadata": {
        "colab": {
          "base_uri": "https://localhost:8080/",
          "height": 1000,
          "referenced_widgets": [
            "45f1bccef61641979aefe71823e17dea",
            "0f1bc785242845b889d07f7f8ffb2f87",
            "67fa619c5294423187995b4ced012824",
            "74537f36d7aa400ca69b475d97cb90c9",
            "ab09ab3deeae4518adcb67b091ec1dbb",
            "9be0c0eaf0e04112b0ced1e534412c27",
            "602bba01de5946ff932b402f7c6d24cd",
            "766af4b79e814859910ac88ff867d940",
            "d1f9d2cbc6ba4b8786865b9792411da2",
            "42a6be45cd6947aa89b0a6d481f1e10e",
            "2492a7e92ad04d13b9623ed066238179"
          ]
        },
        "id": "m-H6TinV3hdk",
        "outputId": "102294f9-74d5-4543-ebf6-d2375e533df3"
      },
      "outputs": [
        {
          "output_type": "stream",
          "name": "stdout",
          "text": [
            "\n",
            "Training safe with sgd...\n"
          ]
        },
        {
          "output_type": "display_data",
          "data": {
            "text/plain": [
              "Epochs:   0%|          | 0/50 [00:00<?, ?it/s]"
            ],
            "application/vnd.jupyter.widget-view+json": {
              "version_major": 2,
              "version_minor": 0,
              "model_id": "45f1bccef61641979aefe71823e17dea"
            }
          },
          "metadata": {}
        },
        {
          "output_type": "stream",
          "name": "stdout",
          "text": [
            "[epoch 000000001] loss=13537.525390625 | avg=3.760837555 | rare=1.353376465\n",
            "[epoch 000000002] loss=13472.713797433 | avg=3.771247659 | rare=1.346894247\n",
            "[epoch 000000003] loss=7337.389630999 | avg=4.169492790 | rare=0.733322022\n"
          ]
        },
        {
          "output_type": "stream",
          "name": "stderr",
          "text": [
            "Exception ignored in: <function _MultiProcessingDataLoaderIter.__del__ at 0x7d79c6b88fe0>\n",
            "Traceback (most recent call last):\n",
            "  File \"/usr/local/lib/python3.12/dist-packages/torch/utils/data/dataloader.py\", line 1664, in __del__\n",
            "    self._shutdown_workers()\n",
            "  File \"/usr/local/lib/python3.12/dist-packages/torch/utils/data/dataloader.py\", line 1647, in _shutdown_workers\n",
            "    if w.is_alive():\n",
            "       ^^^^^^^^^^^^\n",
            "  File \"/usr/lib/python3.12/multiprocessing/process.py\", line 160, in is_alive\n",
            "    assert self._parent_pid == os.getpid(), 'can only test a child process'\n",
            "           ^^^^^^^^^^^^^^^^^^^^^^^^^^^^^^^\n",
            "AssertionError: can only test a child process\n",
            "Exception ignored in: <function _MultiProcessingDataLoaderIter.__del__ at 0x7d79c6b88fe0>\n",
            "Traceback (most recent call last):\n",
            "  File \"/usr/local/lib/python3.12/dist-packages/torch/utils/data/dataloader.py\", line 1664, in __del__\n",
            "    self._shutdown_workers()\n",
            "  File \"/usr/local/lib/python3.12/dist-packages/torch/utils/data/dataloader.py\", line 1647, in _shutdown_workers\n",
            "    if w.is_alive():\n",
            "       ^^^^^^^^^^^^\n",
            "  File \"/usr/lib/python3.12/multiprocessing/process.py\", line 160, in is_alive\n",
            "    assert self._parent_pid == os.getpid(), 'can only test a child process'\n",
            "           ^^^^^^^^^^^^^^^^^^^^^^^^^^^^^^^\n",
            "AssertionError: can only test a child process\n"
          ]
        },
        {
          "output_type": "stream",
          "name": "stdout",
          "text": [
            "[epoch 000000004] loss=1234.411577497 | avg=4.276551485 | rare=0.123013504\n",
            "[epoch 000000005] loss=1343.972582136 | avg=3.991677914 | rare=0.133998094\n",
            "[epoch 000000006] loss=1297.838322231 | avg=3.833367143 | rare=0.129400495\n",
            "[epoch 000000007] loss=1299.304818290 | avg=3.666562234 | rare=0.129563825\n",
            "[epoch 000000008] loss=1308.405508859 | avg=3.504117285 | rare=0.130490140\n",
            "[epoch 000000009] loss=1367.474984305 | avg=3.324980821 | rare=0.136415001\n",
            "[epoch 000000010] loss=1286.503112793 | avg=3.280320099 | rare=0.128322278\n",
            "[epoch 000000011] loss=1264.153189523 | avg=3.142153859 | rare=0.126101100\n",
            "[epoch 000000012] loss=1162.577484131 | avg=3.141674621 | rare=0.115943580\n",
            "[epoch 000000013] loss=1065.316663470 | avg=3.137246660 | rare=0.106217942\n",
            "[epoch 000000014] loss=1094.430284773 | avg=3.001709495 | rare=0.109142859\n",
            "[epoch 000000015] loss=1048.217729841 | avg=2.970767140 | rare=0.104524697\n",
            "[epoch 000000016] loss=1060.242170061 | avg=2.877506171 | rare=0.105736467\n",
            "[epoch 000000017] loss=1000.904663086 | avg=2.844517146 | rare=0.099806014\n",
            "[epoch 000000018] loss=1021.669516427 | avg=2.706014412 | rare=0.101896351\n",
            "[epoch 000000019] loss=987.895254953 | avg=2.671499780 | rare=0.098522375\n",
            "[epoch 000000020] loss=993.104806083 | avg=2.577921237 | rare=0.099052689\n",
            "[epoch 000000021] loss=937.887704032 | avg=2.566674794 | rare=0.093532102\n",
            "[epoch 000000022] loss=988.830126081 | avg=2.482131686 | rare=0.098634799\n",
            "[epoch 000000023] loss=927.899052211 | avg=2.445176772 | rare=0.092545387\n",
            "[epoch 000000024] loss=958.255724226 | avg=2.348849126 | rare=0.095590688\n",
            "[epoch 000000025] loss=949.322692871 | avg=2.285468936 | rare=0.094703722\n",
            "[epoch 000000026] loss=929.504102434 | avg=2.267966935 | rare=0.092723612\n",
            "[epoch 000000027] loss=938.698059082 | avg=2.191705516 | rare=0.093650636\n",
            "[epoch 000000028] loss=964.872868129 | avg=2.137675575 | rare=0.096273520\n",
            "[epoch 000000029] loss=958.939152309 | avg=2.074463929 | rare=0.095686469\n",
            "[epoch 000000030] loss=916.035997663 | avg=2.055920073 | rare=0.091398007\n",
            "[epoch 000000031] loss=925.916503906 | avg=2.002752279 | rare=0.092391375\n",
            "[epoch 000000032] loss=883.536180769 | avg=1.993242213 | rare=0.088154294\n",
            "[epoch 000000033] loss=881.712847028 | avg=1.941465557 | rare=0.087977139\n",
            "[epoch 000000034] loss=900.925890241 | avg=1.905875589 | rare=0.089902002\n",
            "[epoch 000000035] loss=832.653302874 | avg=1.900083814 | rare=0.083075322\n",
            "[epoch 000000036] loss=818.088265555 | avg=1.877645603 | rare=0.081621063\n",
            "[epoch 000000037] loss=782.882084438 | avg=1.871153789 | rare=0.078101094\n",
            "[epoch 000000038] loss=764.567020961 | avg=1.842942749 | rare=0.076272409\n",
            "[epoch 000000039] loss=739.094556536 | avg=1.808886656 | rare=0.073728568\n",
            "[epoch 000000040] loss=715.270071847 | avg=1.831787535 | rare=0.071343828\n",
            "[epoch 000000041] loss=688.786387852 | avg=1.782947191 | rare=0.068700345\n",
            "[epoch 000000042] loss=659.084276472 | avg=1.821653758 | rare=0.065726262\n",
            "[epoch 000000043] loss=678.115642003 | avg=1.775375494 | rare=0.067634027\n",
            "[epoch 000000044] loss=688.913478306 | avg=1.766632429 | rare=0.068714684\n",
            "[epoch 000000045] loss=664.795166016 | avg=1.776230199 | rare=0.066301894\n",
            "[epoch 000000046] loss=649.128391811 | avg=1.762530855 | rare=0.064736585\n",
            "[epoch 000000047] loss=640.119604928 | avg=1.760111800 | rare=0.063835950\n",
            "[epoch 000000048] loss=638.774261475 | avg=1.760597331 | rare=0.063701367\n",
            "[epoch 000000049] loss=641.296752930 | avg=1.738268384 | rare=0.063955848\n",
            "[epoch 000000050] loss=632.274850028 | avg=1.760671079 | rare=0.063051418\n"
          ]
        }
      ],
      "source": [
        "configs = [ (\"safe\", \"sgd\")  ]\n",
        "# configs = [ (\"naive\", \"sgd\") ,(\"safe\", \"sgd\"), (\"safe_neg\", \"sgd\")  ]\n",
        "\n",
        "results = train_all(X_train, y_train,pre_model, 50, GAMMA, SAMPLES_TRAIN, SIGMA, configs = configs , SAFE_BIAS=15.0, lr=1e-7, batch_size = BATCH_SIZE )"
      ]
    },
    {
      "cell_type": "markdown",
      "metadata": {
        "id": "nt5938wv3hdk"
      },
      "source": [
        "# Results"
      ]
    },
    {
      "cell_type": "markdown",
      "metadata": {
        "id": "dSsDnEPj3hdk"
      },
      "source": [
        "## Loss Trajectories"
      ]
    },
    {
      "cell_type": "code",
      "execution_count": null,
      "metadata": {
        "colab": {
          "base_uri": "https://localhost:8080/",
          "height": 1000
        },
        "id": "QC2aw8mn3hdk",
        "outputId": "8afd255d-30e5-4a01-aa97-418a7b7c49b4"
      },
      "outputs": [
        {
          "data": {
            "image/png": "[encoded data removed]",
            "text/plain": [
              "<Figure size 640x480 with 1 Axes>"
            ]
          },
          "metadata": {},
          "output_type": "display_data"
        },
        {
          "data": {
            "image/png": "[encoded data removed]",
            "text/plain": [
              "<Figure size 640x480 with 1 Axes>"
            ]
          },
          "metadata": {},
          "output_type": "display_data"
        },
        {
          "data": {
            "image/png": "[encoded data removed]",
            "text/plain": [
              "<Figure size 640x480 with 1 Axes>"
            ]
          },
          "metadata": {},
          "output_type": "display_data"
        }
      ],
      "source": [
        "plot_all_loss(results, show_log=True)"
      ]
    },
    {
      "cell_type": "markdown",
      "metadata": {
        "id": "FJl1G4Fg3hdk"
      },
      "source": [
        "## Accuracies"
      ]
    },
    {
      "cell_type": "code",
      "execution_count": 84,
      "metadata": {
        "id": "NMTBjhWZaevw",
        "outputId": "bfa84b15-52e8-49d4-94d3-9230ee0e8717",
        "colab": {
          "base_uri": "https://localhost:8080/"
        }
      },
      "outputs": [
        {
          "output_type": "stream",
          "name": "stdout",
          "text": [
            "Evaluating config: ('safe', 'sgd')\n",
            "Accuracy: 80.02%  (CI 95%: [78.89%, 81.10%])\n",
            "Robust Accuracy: 80.07731%  (CI 95%: [79.15045%, 80.98284%])\n",
            "Conditional Robust Accuracy: 98.04506%  (CI 95%: [97.81800%, 98.26147%])\n",
            "-------------------------------------\n"
          ]
        }
      ],
      "source": [
        "for config in configs:\n",
        "    print(f\"Evaluating config: {config}\")\n",
        "    _ = eval_one(\n",
        "        results[config][0], X_test, y_test,\n",
        "        sigma=SIGMA, SAMPLES_EVAL=SAMPLES_EVAL,\n",
        "        J_chunk=5000,        # <= keep m small\n",
        "        N_chunk=512,      # <= keep B small\n",
        "        B=300             # <= lighter bootstrap\n",
        "    )\n",
        "    print(\"-------------------------------------\")"
      ]
    },
    {
      "cell_type": "code",
      "source": [],
      "metadata": {
        "id": "kUpqw66sJhzY"
      },
      "execution_count": null,
      "outputs": []
    }
  ],
  "metadata": {
    "accelerator": "GPU",
    "colab": {
      "gpuType": "A100",
      "machine_shape": "hm",
      "provenance": []
    },
    "kernelspec": {
      "display_name": "Python 3",
      "name": "python3"
    },
    "language_info": {
      "codemirror_mode": {
        "name": "ipython",
        "version": 3
      },
      "file_extension": ".py",
      "mimetype": "text/x-python",
      "name": "python",
      "nbconvert_exporter": "python",
      "pygments_lexer": "ipython3",
      "version": "3.9.6"
    },
    "widgets": {
      "application/vnd.jupyter.widget-state+json": {
        "78afd5303666422c80bdc423530b9d42": {
          "model_module": "@jupyter-widgets/controls",
          "model_name": "HBoxModel",
          "model_module_version": "1.5.0",
          "state": {
            "_dom_classes": [],
            "_model_module": "@jupyter-widgets/controls",
            "_model_module_version": "1.5.0",
            "_model_name": "HBoxModel",
            "_view_count": null,
            "_view_module": "@jupyter-widgets/controls",
            "_view_module_version": "1.5.0",
            "_view_name": "HBoxView",
            "box_style": "",
            "children": [
              "IPY_MODEL_fe21ce9545f541df972f87db62caf62f",
              "IPY_MODEL_67feafbac7be43a7b5618352609ad79b",
              "IPY_MODEL_ff0f4846896e480ab2d6079769e6640f"
            ],
            "layout": "IPY_MODEL_1b9a2bac77d1445e9a7da8a11963cfba"
          }
        },
        "fe21ce9545f541df972f87db62caf62f": {
          "model_module": "@jupyter-widgets/controls",
          "model_name": "HTMLModel",
          "model_module_version": "1.5.0",
          "state": {
            "_dom_classes": [],
            "_model_module": "@jupyter-widgets/controls",
            "_model_module_version": "1.5.0",
            "_model_name": "HTMLModel",
            "_view_count": null,
            "_view_module": "@jupyter-widgets/controls",
            "_view_module_version": "1.5.0",
            "_view_name": "HTMLView",
            "description": "",
            "description_tooltip": null,
            "layout": "IPY_MODEL_41d5beafb15e4ca99c2be48a52c0d439",
            "placeholder": "​",
            "style": "IPY_MODEL_394a4954a25d4d6fb8b4085dbf97dc66",
            "value": "Epochs: 100%"
          }
        },
        "67feafbac7be43a7b5618352609ad79b": {
          "model_module": "@jupyter-widgets/controls",
          "model_name": "FloatProgressModel",
          "model_module_version": "1.5.0",
          "state": {
            "_dom_classes": [],
            "_model_module": "@jupyter-widgets/controls",
            "_model_module_version": "1.5.0",
            "_model_name": "FloatProgressModel",
            "_view_count": null,
            "_view_module": "@jupyter-widgets/controls",
            "_view_module_version": "1.5.0",
            "_view_name": "ProgressView",
            "bar_style": "success",
            "description": "",
            "description_tooltip": null,
            "layout": "IPY_MODEL_b1d5d8189fd14ec8bd0bed624421595a",
            "max": 2000,
            "min": 0,
            "orientation": "horizontal",
            "style": "IPY_MODEL_9f37af500a4e400ba2a7d6ce439152eb",
            "value": 2000
          }
        },
        "ff0f4846896e480ab2d6079769e6640f": {
          "model_module": "@jupyter-widgets/controls",
          "model_name": "HTMLModel",
          "model_module_version": "1.5.0",
          "state": {
            "_dom_classes": [],
            "_model_module": "@jupyter-widgets/controls",
            "_model_module_version": "1.5.0",
            "_model_name": "HTMLModel",
            "_view_count": null,
            "_view_module": "@jupyter-widgets/controls",
            "_view_module_version": "1.5.0",
            "_view_name": "HTMLView",
            "description": "",
            "description_tooltip": null,
            "layout": "IPY_MODEL_e309b1f92d8f435897f0ef1a3bab00f3",
            "placeholder": "​",
            "style": "IPY_MODEL_fb83a1003e26489094d104cad1724d8f",
            "value": " 2000/2000 [05:50&lt;00:00,  5.68it/s]"
          }
        },
        "1b9a2bac77d1445e9a7da8a11963cfba": {
          "model_module": "@jupyter-widgets/base",
          "model_name": "LayoutModel",
          "model_module_version": "1.2.0",
          "state": {
            "_model_module": "@jupyter-widgets/base",
            "_model_module_version": "1.2.0",
            "_model_name": "LayoutModel",
            "_view_count": null,
            "_view_module": "@jupyter-widgets/base",
            "_view_module_version": "1.2.0",
            "_view_name": "LayoutView",
            "align_content": null,
            "align_items": null,
            "align_self": null,
            "border": null,
            "bottom": null,
            "display": "inline-flex",
            "flex": null,
            "flex_flow": "row wrap",
            "grid_area": null,
            "grid_auto_columns": null,
            "grid_auto_flow": null,
            "grid_auto_rows": null,
            "grid_column": null,
            "grid_gap": null,
            "grid_row": null,
            "grid_template_areas": null,
            "grid_template_columns": null,
            "grid_template_rows": null,
            "height": null,
            "justify_content": null,
            "justify_items": null,
            "left": null,
            "margin": null,
            "max_height": null,
            "max_width": null,
            "min_height": null,
            "min_width": null,
            "object_fit": null,
            "object_position": null,
            "order": null,
            "overflow": null,
            "overflow_x": null,
            "overflow_y": null,
            "padding": null,
            "right": null,
            "top": null,
            "visibility": null,
            "width": "100%"
          }
        },
        "41d5beafb15e4ca99c2be48a52c0d439": {
          "model_module": "@jupyter-widgets/base",
          "model_name": "LayoutModel",
          "model_module_version": "1.2.0",
          "state": {
            "_model_module": "@jupyter-widgets/base",
            "_model_module_version": "1.2.0",
            "_model_name": "LayoutModel",
            "_view_count": null,
            "_view_module": "@jupyter-widgets/base",
            "_view_module_version": "1.2.0",
            "_view_name": "LayoutView",
            "align_content": null,
            "align_items": null,
            "align_self": null,
            "border": null,
            "bottom": null,
            "display": null,
            "flex": null,
            "flex_flow": null,
            "grid_area": null,
            "grid_auto_columns": null,
            "grid_auto_flow": null,
            "grid_auto_rows": null,
            "grid_column": null,
            "grid_gap": null,
            "grid_row": null,
            "grid_template_areas": null,
            "grid_template_columns": null,
            "grid_template_rows": null,
            "height": null,
            "justify_content": null,
            "justify_items": null,
            "left": null,
            "margin": null,
            "max_height": null,
            "max_width": null,
            "min_height": null,
            "min_width": null,
            "object_fit": null,
            "object_position": null,
            "order": null,
            "overflow": null,
            "overflow_x": null,
            "overflow_y": null,
            "padding": null,
            "right": null,
            "top": null,
            "visibility": null,
            "width": null
          }
        },
        "394a4954a25d4d6fb8b4085dbf97dc66": {
          "model_module": "@jupyter-widgets/controls",
          "model_name": "DescriptionStyleModel",
          "model_module_version": "1.5.0",
          "state": {
            "_model_module": "@jupyter-widgets/controls",
            "_model_module_version": "1.5.0",
            "_model_name": "DescriptionStyleModel",
            "_view_count": null,
            "_view_module": "@jupyter-widgets/base",
            "_view_module_version": "1.2.0",
            "_view_name": "StyleView",
            "description_width": ""
          }
        },
        "b1d5d8189fd14ec8bd0bed624421595a": {
          "model_module": "@jupyter-widgets/base",
          "model_name": "LayoutModel",
          "model_module_version": "1.2.0",
          "state": {
            "_model_module": "@jupyter-widgets/base",
            "_model_module_version": "1.2.0",
            "_model_name": "LayoutModel",
            "_view_count": null,
            "_view_module": "@jupyter-widgets/base",
            "_view_module_version": "1.2.0",
            "_view_name": "LayoutView",
            "align_content": null,
            "align_items": null,
            "align_self": null,
            "border": null,
            "bottom": null,
            "display": null,
            "flex": "2",
            "flex_flow": null,
            "grid_area": null,
            "grid_auto_columns": null,
            "grid_auto_flow": null,
            "grid_auto_rows": null,
            "grid_column": null,
            "grid_gap": null,
            "grid_row": null,
            "grid_template_areas": null,
            "grid_template_columns": null,
            "grid_template_rows": null,
            "height": null,
            "justify_content": null,
            "justify_items": null,
            "left": null,
            "margin": null,
            "max_height": null,
            "max_width": null,
            "min_height": null,
            "min_width": null,
            "object_fit": null,
            "object_position": null,
            "order": null,
            "overflow": null,
            "overflow_x": null,
            "overflow_y": null,
            "padding": null,
            "right": null,
            "top": null,
            "visibility": null,
            "width": null
          }
        },
        "9f37af500a4e400ba2a7d6ce439152eb": {
          "model_module": "@jupyter-widgets/controls",
          "model_name": "ProgressStyleModel",
          "model_module_version": "1.5.0",
          "state": {
            "_model_module": "@jupyter-widgets/controls",
            "_model_module_version": "1.5.0",
            "_model_name": "ProgressStyleModel",
            "_view_count": null,
            "_view_module": "@jupyter-widgets/base",
            "_view_module_version": "1.2.0",
            "_view_name": "StyleView",
            "bar_color": null,
            "description_width": ""
          }
        },
        "e309b1f92d8f435897f0ef1a3bab00f3": {
          "model_module": "@jupyter-widgets/base",
          "model_name": "LayoutModel",
          "model_module_version": "1.2.0",
          "state": {
            "_model_module": "@jupyter-widgets/base",
            "_model_module_version": "1.2.0",
            "_model_name": "LayoutModel",
            "_view_count": null,
            "_view_module": "@jupyter-widgets/base",
            "_view_module_version": "1.2.0",
            "_view_name": "LayoutView",
            "align_content": null,
            "align_items": null,
            "align_self": null,
            "border": null,
            "bottom": null,
            "display": null,
            "flex": null,
            "flex_flow": null,
            "grid_area": null,
            "grid_auto_columns": null,
            "grid_auto_flow": null,
            "grid_auto_rows": null,
            "grid_column": null,
            "grid_gap": null,
            "grid_row": null,
            "grid_template_areas": null,
            "grid_template_columns": null,
            "grid_template_rows": null,
            "height": null,
            "justify_content": null,
            "justify_items": null,
            "left": null,
            "margin": null,
            "max_height": null,
            "max_width": null,
            "min_height": null,
            "min_width": null,
            "object_fit": null,
            "object_position": null,
            "order": null,
            "overflow": null,
            "overflow_x": null,
            "overflow_y": null,
            "padding": null,
            "right": null,
            "top": null,
            "visibility": null,
            "width": null
          }
        },
        "fb83a1003e26489094d104cad1724d8f": {
          "model_module": "@jupyter-widgets/controls",
          "model_name": "DescriptionStyleModel",
          "model_module_version": "1.5.0",
          "state": {
            "_model_module": "@jupyter-widgets/controls",
            "_model_module_version": "1.5.0",
            "_model_name": "DescriptionStyleModel",
            "_view_count": null,
            "_view_module": "@jupyter-widgets/base",
            "_view_module_version": "1.2.0",
            "_view_name": "StyleView",
            "description_width": ""
          }
        },
        "45f1bccef61641979aefe71823e17dea": {
          "model_module": "@jupyter-widgets/controls",
          "model_name": "HBoxModel",
          "model_module_version": "1.5.0",
          "state": {
            "_dom_classes": [],
            "_model_module": "@jupyter-widgets/controls",
            "_model_module_version": "1.5.0",
            "_model_name": "HBoxModel",
            "_view_count": null,
            "_view_module": "@jupyter-widgets/controls",
            "_view_module_version": "1.5.0",
            "_view_name": "HBoxView",
            "box_style": "",
            "children": [
              "IPY_MODEL_0f1bc785242845b889d07f7f8ffb2f87",
              "IPY_MODEL_67fa619c5294423187995b4ced012824",
              "IPY_MODEL_74537f36d7aa400ca69b475d97cb90c9"
            ],
            "layout": "IPY_MODEL_ab09ab3deeae4518adcb67b091ec1dbb"
          }
        },
        "0f1bc785242845b889d07f7f8ffb2f87": {
          "model_module": "@jupyter-widgets/controls",
          "model_name": "HTMLModel",
          "model_module_version": "1.5.0",
          "state": {
            "_dom_classes": [],
            "_model_module": "@jupyter-widgets/controls",
            "_model_module_version": "1.5.0",
            "_model_name": "HTMLModel",
            "_view_count": null,
            "_view_module": "@jupyter-widgets/controls",
            "_view_module_version": "1.5.0",
            "_view_name": "HTMLView",
            "description": "",
            "description_tooltip": null,
            "layout": "IPY_MODEL_9be0c0eaf0e04112b0ced1e534412c27",
            "placeholder": "​",
            "style": "IPY_MODEL_602bba01de5946ff932b402f7c6d24cd",
            "value": "Epochs: 100%"
          }
        },
        "67fa619c5294423187995b4ced012824": {
          "model_module": "@jupyter-widgets/controls",
          "model_name": "FloatProgressModel",
          "model_module_version": "1.5.0",
          "state": {
            "_dom_classes": [],
            "_model_module": "@jupyter-widgets/controls",
            "_model_module_version": "1.5.0",
            "_model_name": "FloatProgressModel",
            "_view_count": null,
            "_view_module": "@jupyter-widgets/controls",
            "_view_module_version": "1.5.0",
            "_view_name": "ProgressView",
            "bar_style": "success",
            "description": "",
            "description_tooltip": null,
            "layout": "IPY_MODEL_766af4b79e814859910ac88ff867d940",
            "max": 50,
            "min": 0,
            "orientation": "horizontal",
            "style": "IPY_MODEL_d1f9d2cbc6ba4b8786865b9792411da2",
            "value": 50
          }
        },
        "74537f36d7aa400ca69b475d97cb90c9": {
          "model_module": "@jupyter-widgets/controls",
          "model_name": "HTMLModel",
          "model_module_version": "1.5.0",
          "state": {
            "_dom_classes": [],
            "_model_module": "@jupyter-widgets/controls",
            "_model_module_version": "1.5.0",
            "_model_name": "HTMLModel",
            "_view_count": null,
            "_view_module": "@jupyter-widgets/controls",
            "_view_module_version": "1.5.0",
            "_view_name": "HTMLView",
            "description": "",
            "description_tooltip": null,
            "layout": "IPY_MODEL_42a6be45cd6947aa89b0a6d481f1e10e",
            "placeholder": "​",
            "style": "IPY_MODEL_2492a7e92ad04d13b9623ed066238179",
            "value": " 50/50 [01:19&lt;00:00,  1.60s/it]"
          }
        },
        "ab09ab3deeae4518adcb67b091ec1dbb": {
          "model_module": "@jupyter-widgets/base",
          "model_name": "LayoutModel",
          "model_module_version": "1.2.0",
          "state": {
            "_model_module": "@jupyter-widgets/base",
            "_model_module_version": "1.2.0",
            "_model_name": "LayoutModel",
            "_view_count": null,
            "_view_module": "@jupyter-widgets/base",
            "_view_module_version": "1.2.0",
            "_view_name": "LayoutView",
            "align_content": null,
            "align_items": null,
            "align_self": null,
            "border": null,
            "bottom": null,
            "display": "inline-flex",
            "flex": null,
            "flex_flow": "row wrap",
            "grid_area": null,
            "grid_auto_columns": null,
            "grid_auto_flow": null,
            "grid_auto_rows": null,
            "grid_column": null,
            "grid_gap": null,
            "grid_row": null,
            "grid_template_areas": null,
            "grid_template_columns": null,
            "grid_template_rows": null,
            "height": null,
            "justify_content": null,
            "justify_items": null,
            "left": null,
            "margin": null,
            "max_height": null,
            "max_width": null,
            "min_height": null,
            "min_width": null,
            "object_fit": null,
            "object_position": null,
            "order": null,
            "overflow": null,
            "overflow_x": null,
            "overflow_y": null,
            "padding": null,
            "right": null,
            "top": null,
            "visibility": null,
            "width": "100%"
          }
        },
        "9be0c0eaf0e04112b0ced1e534412c27": {
          "model_module": "@jupyter-widgets/base",
          "model_name": "LayoutModel",
          "model_module_version": "1.2.0",
          "state": {
            "_model_module": "@jupyter-widgets/base",
            "_model_module_version": "1.2.0",
            "_model_name": "LayoutModel",
            "_view_count": null,
            "_view_module": "@jupyter-widgets/base",
            "_view_module_version": "1.2.0",
            "_view_name": "LayoutView",
            "align_content": null,
            "align_items": null,
            "align_self": null,
            "border": null,
            "bottom": null,
            "display": null,
            "flex": null,
            "flex_flow": null,
            "grid_area": null,
            "grid_auto_columns": null,
            "grid_auto_flow": null,
            "grid_auto_rows": null,
            "grid_column": null,
            "grid_gap": null,
            "grid_row": null,
            "grid_template_areas": null,
            "grid_template_columns": null,
            "grid_template_rows": null,
            "height": null,
            "justify_content": null,
            "justify_items": null,
            "left": null,
            "margin": null,
            "max_height": null,
            "max_width": null,
            "min_height": null,
            "min_width": null,
            "object_fit": null,
            "object_position": null,
            "order": null,
            "overflow": null,
            "overflow_x": null,
            "overflow_y": null,
            "padding": null,
            "right": null,
            "top": null,
            "visibility": null,
            "width": null
          }
        },
        "602bba01de5946ff932b402f7c6d24cd": {
          "model_module": "@jupyter-widgets/controls",
          "model_name": "DescriptionStyleModel",
          "model_module_version": "1.5.0",
          "state": {
            "_model_module": "@jupyter-widgets/controls",
            "_model_module_version": "1.5.0",
            "_model_name": "DescriptionStyleModel",
            "_view_count": null,
            "_view_module": "@jupyter-widgets/base",
            "_view_module_version": "1.2.0",
            "_view_name": "StyleView",
            "description_width": ""
          }
        },
        "766af4b79e814859910ac88ff867d940": {
          "model_module": "@jupyter-widgets/base",
          "model_name": "LayoutModel",
          "model_module_version": "1.2.0",
          "state": {
            "_model_module": "@jupyter-widgets/base",
            "_model_module_version": "1.2.0",
            "_model_name": "LayoutModel",
            "_view_count": null,
            "_view_module": "@jupyter-widgets/base",
            "_view_module_version": "1.2.0",
            "_view_name": "LayoutView",
            "align_content": null,
            "align_items": null,
            "align_self": null,
            "border": null,
            "bottom": null,
            "display": null,
            "flex": "2",
            "flex_flow": null,
            "grid_area": null,
            "grid_auto_columns": null,
            "grid_auto_flow": null,
            "grid_auto_rows": null,
            "grid_column": null,
            "grid_gap": null,
            "grid_row": null,
            "grid_template_areas": null,
            "grid_template_columns": null,
            "grid_template_rows": null,
            "height": null,
            "justify_content": null,
            "justify_items": null,
            "left": null,
            "margin": null,
            "max_height": null,
            "max_width": null,
            "min_height": null,
            "min_width": null,
            "object_fit": null,
            "object_position": null,
            "order": null,
            "overflow": null,
            "overflow_x": null,
            "overflow_y": null,
            "padding": null,
            "right": null,
            "top": null,
            "visibility": null,
            "width": null
          }
        },
        "d1f9d2cbc6ba4b8786865b9792411da2": {
          "model_module": "@jupyter-widgets/controls",
          "model_name": "ProgressStyleModel",
          "model_module_version": "1.5.0",
          "state": {
            "_model_module": "@jupyter-widgets/controls",
            "_model_module_version": "1.5.0",
            "_model_name": "ProgressStyleModel",
            "_view_count": null,
            "_view_module": "@jupyter-widgets/base",
            "_view_module_version": "1.2.0",
            "_view_name": "StyleView",
            "bar_color": null,
            "description_width": ""
          }
        },
        "42a6be45cd6947aa89b0a6d481f1e10e": {
          "model_module": "@jupyter-widgets/base",
          "model_name": "LayoutModel",
          "model_module_version": "1.2.0",
          "state": {
            "_model_module": "@jupyter-widgets/base",
            "_model_module_version": "1.2.0",
            "_model_name": "LayoutModel",
            "_view_count": null,
            "_view_module": "@jupyter-widgets/base",
            "_view_module_version": "1.2.0",
            "_view_name": "LayoutView",
            "align_content": null,
            "align_items": null,
            "align_self": null,
            "border": null,
            "bottom": null,
            "display": null,
            "flex": null,
            "flex_flow": null,
            "grid_area": null,
            "grid_auto_columns": null,
            "grid_auto_flow": null,
            "grid_auto_rows": null,
            "grid_column": null,
            "grid_gap": null,
            "grid_row": null,
            "grid_template_areas": null,
            "grid_template_columns": null,
            "grid_template_rows": null,
            "height": null,
            "justify_content": null,
            "justify_items": null,
            "left": null,
            "margin": null,
            "max_height": null,
            "max_width": null,
            "min_height": null,
            "min_width": null,
            "object_fit": null,
            "object_position": null,
            "order": null,
            "overflow": null,
            "overflow_x": null,
            "overflow_y": null,
            "padding": null,
            "right": null,
            "top": null,
            "visibility": null,
            "width": null
          }
        },
        "2492a7e92ad04d13b9623ed066238179": {
          "model_module": "@jupyter-widgets/controls",
          "model_name": "DescriptionStyleModel",
          "model_module_version": "1.5.0",
          "state": {
            "_model_module": "@jupyter-widgets/controls",
            "_model_module_version": "1.5.0",
            "_model_name": "DescriptionStyleModel",
            "_view_count": null,
            "_view_module": "@jupyter-widgets/base",
            "_view_module_version": "1.2.0",
            "_view_name": "StyleView",
            "description_width": ""
          }
        }
      }
    }
  },
  "nbformat": 4,
  "nbformat_minor": 0
}