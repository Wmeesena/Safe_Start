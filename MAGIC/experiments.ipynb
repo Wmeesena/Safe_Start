{
  "cells": [
    {
      "cell_type": "markdown",
      "metadata": {
        "id": "LajrWb1O3hdj"
      },
      "source": [
        "# For Colab"
      ]
    },
    {
      "cell_type": "code",
      "execution_count": 1,
      "metadata": {
        "colab": {
          "base_uri": "https://localhost:8080/"
        },
        "collapsed": true,
        "id": "s1jw0cKZ3hdj",
        "outputId": "e4b066e3-7714-4911-a528-f931830300e2"
      },
      "outputs": [
        {
          "name": "stdout",
          "output_type": "stream",
          "text": [
            "$ git clone --depth 1 --branch main https://github.com/Wmeesena/Safe_Start.git /content/Safe_Start\n",
            "CWD: /content/Safe_Start/MAGIC\n",
            "main\n",
            "b295647153e06c1660ce4c6bf0cdcc0b688b9665\n"
          ]
        }
      ],
      "source": [
        "# --- always get latest repo state in Colab ---\n",
        "import os, sys, subprocess\n",
        "\n",
        "REPO_URL  = \"https://github.com/Wmeesena/Safe_Start.git\"\n",
        "REPO_ROOT = \"/content/Safe_Start\"     # repo root\n",
        "WORKDIR   = os.path.join(REPO_ROOT, \"MAGIC\")\n",
        "BRANCH    = \"main\"\n",
        "\n",
        "def run(cmd):\n",
        "    print(\"$\", \" \".join(cmd))\n",
        "    subprocess.run(cmd, check=True)\n",
        "\n",
        "if not os.path.isdir(REPO_ROOT):\n",
        "    run([\"git\", \"clone\", \"--depth\", \"1\", \"--branch\", BRANCH, REPO_URL, REPO_ROOT])\n",
        "else:\n",
        "    run([\"git\", \"-C\", REPO_ROOT, \"fetch\", \"origin\"])\n",
        "    run([\"git\", \"-C\", REPO_ROOT, \"checkout\", BRANCH])\n",
        "    run([\"git\", \"-C\", REPO_ROOT, \"reset\", \"--hard\", f\"origin/{BRANCH}\"])\n",
        "\n",
        "# (optional) submodules\n",
        "# run([\"git\", \"-C\", REPO_ROOT, \"submodule\", \"update\", \"--init\", \"--recursive\"])\n",
        "\n",
        "# Set working dir and import path\n",
        "os.chdir(WORKDIR if os.path.isdir(WORKDIR) else REPO_ROOT)\n",
        "if REPO_ROOT not in sys.path:\n",
        "    sys.path.append(REPO_ROOT)\n",
        "\n",
        "print(\"CWD:\", os.getcwd())\n",
        "!git -C {REPO_ROOT} rev-parse --abbrev-ref HEAD\n",
        "!git -C {REPO_ROOT} rev-parse HEAD\n",
        "\n",
        "# installs\n",
        "%pip install -q ucimlrepo\n"
      ]
    },
    {
      "cell_type": "markdown",
      "metadata": {
        "id": "F_iSxtWy3hdj"
      },
      "source": [
        "# Setup"
      ]
    },
    {
      "cell_type": "code",
      "execution_count": 64,
      "metadata": {
        "id": "bP1k6Mzl3hdk"
      },
      "outputs": [
        {
          "name": "stdout",
          "output_type": "stream",
          "text": [
            "The autoreload extension is already loaded. To reload it, use:\n",
            "  %reload_ext autoreload\n"
          ]
        }
      ],
      "source": [
        "from ucimlrepo import fetch_ucirepo\n",
        "import pandas as pd\n",
        "import numpy as np\n",
        "import torch\n",
        "from src.models.mlp import MLP\n",
        "import torch.nn as nn\n",
        "import torch.optim as optim\n",
        "\n",
        "import matplotlib.pyplot as plt\n",
        "from src.train import pretrain,  joint_train, train_all\n",
        "from src.eval import evaluate_avg_accuracy, evaluate_robust, eval_one, eval_all\n",
        "from src.utils import pct, pct_ci\n",
        "from src.plots import plot_loss_multi, plot_all_loss\n",
        "from src.data import load_magic_data\n",
        "\n",
        "%load_ext autoreload\n",
        "%autoreload 2\n"
      ]
    },
    {
      "cell_type": "code",
      "execution_count": null,
      "metadata": {},
      "outputs": [],
      "source": [
        "# import gc, torch\n",
        "# gc.collect()\n",
        "# torch.cuda.empty_cache()  # frees cached blocks back to the allocator"
      ]
    },
    {
      "cell_type": "markdown",
      "metadata": {
        "id": "jX3ViJ8T3hdk"
      },
      "source": [
        "# Data"
      ]
    },
    {
      "cell_type": "code",
      "execution_count": 66,
      "metadata": {
        "id": "XnJEYbFX3hdk"
      },
      "outputs": [],
      "source": [
        "SIGMA = 10.0\n",
        "SAMPLES_EVAL = 500000\n",
        "SAMPLES_TRAIN = 100000\n",
        "GAMMA = 10000.\n",
        "NUM_EPOCHS = 100\n",
        "NUM_EPOCHS_PRE = 100"
      ]
    },
    {
      "cell_type": "code",
      "execution_count": 67,
      "metadata": {
        "id": "KFlckEHm3hdk"
      },
      "outputs": [],
      "source": [
        "X_train, y_train, X_test, y_test = load_magic_data()"
      ]
    },
    {
      "cell_type": "code",
      "execution_count": 70,
      "metadata": {},
      "outputs": [
        {
          "data": {
            "text/plain": [
              "(torch.Size([14000, 10]),\n",
              " torch.Size([14000, 1]),\n",
              " torch.Size([5020, 10]),\n",
              " torch.Size([5020, 1]))"
            ]
          },
          "execution_count": 70,
          "metadata": {},
          "output_type": "execute_result"
        }
      ],
      "source": [
        "X_train.shape, y_train.shape, X_test.shape, y_test.shape"
      ]
    },
    {
      "cell_type": "markdown",
      "metadata": {
        "id": "IkdZujCK3hdk"
      },
      "source": [
        "# Pretrain"
      ]
    },
    {
      "cell_type": "code",
      "execution_count": 33,
      "metadata": {
        "id": "oBrW8Qo5pXuJ"
      },
      "outputs": [],
      "source": [
        "device = \"cuda\" if torch.cuda.is_available() else \"cpu\""
      ]
    },
    {
      "cell_type": "code",
      "execution_count": 6,
      "metadata": {
        "colab": {
          "base_uri": "https://localhost:8080/",
          "height": 49,
          "referenced_widgets": [
            "acd11bfaf46c4b828420ba8dfee501f9",
            "951de950992e416e8cac2c995cb8479a",
            "96f2e5435edf4c3b880d10913fd728a9",
            "613b0ed90285458e96d3cf6cfb79b2c6",
            "6701f7877fac4463a8ed2e6244aa95d6",
            "77658d06ae9544cda9793bc79725fa03",
            "fda92a2bf55d47afabeeec54db21737b",
            "98171e2abc5749028c0c6e90346fdda4",
            "ce141c91e9d14f0fbbabb238f9556c47",
            "ae93af4a23e74778915751c18b04304b",
            "3dbe2307803647df80fc446f0da51404"
          ]
        },
        "id": "Pod2ZkF35hzI",
        "outputId": "c9ee229e-e385-4220-d22b-6f4906ef33f6"
      },
      "outputs": [
        {
          "data": {
            "application/vnd.jupyter.widget-view+json": {
              "model_id": "acd11bfaf46c4b828420ba8dfee501f9",
              "version_major": 2,
              "version_minor": 0
            },
            "text/plain": [
              "Epochs:   0%|          | 0/1 [00:00<?, ?it/s]"
            ]
          },
          "metadata": {},
          "output_type": "display_data"
        }
      ],
      "source": [
        "model = MLP(input_size=X_train.shape[1]).to(device)\n",
        "pre_model = pretrain(X_train,y_train, model, num_epochs=NUM_EPOCHS_PRE)"
      ]
    },
    {
      "cell_type": "code",
      "execution_count": 28,
      "metadata": {
        "id": "izkXyLzVO5cd"
      },
      "outputs": [],
      "source": [
        "pre_model = MLP(input_size=X_train.shape[1]).to(device)"
      ]
    },
    {
      "cell_type": "code",
      "execution_count": 36,
      "metadata": {
        "colab": {
          "base_uri": "https://localhost:8080/"
        },
        "id": "Idky3TWd3hdk",
        "outputId": "452e061f-8515-40b9-81f1-bc7eb0718193"
      },
      "outputs": [
        {
          "name": "stdout",
          "output_type": "stream",
          "text": [
            "Accuracy: 39.48%  (CI 95%: [38.14%, 40.84%])\n",
            "Robust Accuracy: 39.49327%  (CI 95%: [38.07385%, 40.69772%])\n",
            "Conditional Robust Accuracy: 99.59143%  (CI 95%: [99.43352%, 99.71703%])\n"
          ]
        }
      ],
      "source": [
        "_ = eval_one(\n",
        "    pre_model, X_test, y_test,\n",
        "    sigma=SIGMA, SAMPLES_EVAL=SAMPLES_EVAL,\n",
        "    J_chunk=5000,        # <= keep m small\n",
        "    N_chunk=512,      # <= keep B small\n",
        "    B=300             # <= lighter bootstrap\n",
        ")\n"
      ]
    },
    {
      "cell_type": "code",
      "execution_count": 9,
      "metadata": {
        "id": "gVy_yDlSpXuK"
      },
      "outputs": [],
      "source": [
        "# pre_model1, hist_pre1 = joint_train(\n",
        "#             X_train, y_train, pre_model, num_epochs=1, gamma=GAMMA,\n",
        "#             num_samples=SAMPLES_TRAIN, sigma=SIGMA, IF_SAFE=False,\n",
        "#             opt=\"adam\"\n",
        "#         )\n",
        "# _ = eval_one( pre_model1, X_test, y_test, SIGMA, 1000)"
      ]
    },
    {
      "cell_type": "code",
      "execution_count": 71,
      "metadata": {},
      "outputs": [
        {
          "name": "stdout",
          "output_type": "stream",
          "text": [
            "Train class balance: {0.0: 4879, 1.0: 9121}\n",
            "Test  class balance: {0.0: 1809, 1.0: 3211}\n",
            "\n",
            "Decision stump (max_depth=1): test accuracy = 0.7339\n",
            "|--- x8 <= 26.19\n",
            "|   |--- class: 1.0\n",
            "|--- x8 >  26.19\n",
            "|   |--- class: 0.0\n",
            "\n",
            "\n",
            "Very small tree (max_depth=2): test accuracy = 0.7926\n",
            "|--- x8 <= 26.19\n",
            "|   |--- x0 <= 116.18\n",
            "|   |   |--- class: 1.0\n",
            "|   |--- x0 >  116.18\n",
            "|   |   |--- class: 0.0\n",
            "|--- x8 >  26.19\n",
            "|   |--- x0 <= 31.15\n",
            "|   |   |--- class: 1.0\n",
            "|   |--- x0 >  31.15\n",
            "|   |   |--- class: 0.0\n",
            "\n",
            "\n",
            "Small tree (max_depth=3): test accuracy = 0.7926\n",
            "|--- x8 <= 26.19\n",
            "|   |--- x0 <= 116.18\n",
            "|   |   |--- x8 <= 9.67\n",
            "|   |   |   |--- class: 1.0\n",
            "|   |   |--- x8 >  9.67\n",
            "|   |   |   |--- class: 1.0\n",
            "|   |--- x0 >  116.18\n",
            "|   |   |--- x8 <= 8.69\n",
            "|   |   |   |--- class: 0.0\n",
            "|   |   |--- x8 >  8.69\n",
            "|   |   |   |--- class: 0.0\n",
            "|--- x8 >  26.19\n",
            "|   |--- x0 <= 31.15\n",
            "|   |   |--- x2 <= 2.32\n",
            "|   |   |   |--- class: 1.0\n",
            "|   |   |--- x2 >  2.32\n",
            "|   |   |   |--- class: 1.0\n",
            "|   |--- x0 >  31.15\n",
            "|   |   |--- x0 <= 54.91\n",
            "|   |   |   |--- class: 0.0\n",
            "|   |   |--- x0 >  54.91\n",
            "|   |   |   |--- class: 0.0\n",
            "\n",
            "\n",
            "Confusion matrix (stump):\n",
            "array([[1257,  552],\n",
            "       [ 784, 2427]])\n",
            "\n",
            "Classification report (stump):\n",
            "              precision    recall  f1-score   support\n",
            "\n",
            "         0.0     0.6159    0.6949    0.6530      1809\n",
            "         1.0     0.8147    0.7558    0.7842      3211\n",
            "\n",
            "    accuracy                         0.7339      5020\n",
            "   macro avg     0.7153    0.7253    0.7186      5020\n",
            "weighted avg     0.7431    0.7339    0.7369      5020\n",
            "\n"
          ]
        }
      ],
      "source": [
        "# minimal test of \"can a single split classify MAGIC?\"\n",
        "import numpy as np\n",
        "from sklearn.tree import DecisionTreeClassifier, export_text\n",
        "from sklearn.metrics import accuracy_score, classification_report, confusion_matrix\n",
        "\n",
        "# your function\n",
        "X_train, y_train, X_test, y_test = load_magic_data()\n",
        "\n",
        "# --- convert Torch tensors to numpy (and fix shape of y) ---\n",
        "Xtr = X_train.detach().cpu().numpy()\n",
        "Ytr = y_train.detach().cpu().numpy().reshape(-1)\n",
        "Xte = X_test.detach().cpu().numpy()\n",
        "Yte = y_test.detach().cpu().numpy().reshape(-1)\n",
        "\n",
        "# sanity: show class balance\n",
        "unique, counts = np.unique(Ytr, return_counts=True)\n",
        "print(\"Train class balance:\", dict(zip(unique, counts)))\n",
        "unique, counts = np.unique(Yte, return_counts=True)\n",
        "print(\"Test  class balance:\", dict(zip(unique, counts)))\n",
        "\n",
        "def fit_and_eval(name, **tree_kwargs):\n",
        "    clf = DecisionTreeClassifier(random_state=42, **tree_kwargs)\n",
        "    clf.fit(Xtr, Ytr)\n",
        "    ypred = clf.predict(Xte)\n",
        "    acc = accuracy_score(Yte, ypred)\n",
        "    print(f\"\\n{name}: test accuracy = {acc:.4f}\")\n",
        "    # show the tiny tree\n",
        "    try:\n",
        "        print(export_text(clf, feature_names=[f\"x{j}\" for j in range(Xtr.shape[1])]))\n",
        "    except Exception:\n",
        "        pass\n",
        "    return acc, clf\n",
        "\n",
        "# 1) Decision stump (single split)\n",
        "acc1, stump = fit_and_eval(\"Decision stump (max_depth=1)\", max_depth=1)\n",
        "\n",
        "# 2) (Optional) try a couple of slightly larger but still tiny trees\n",
        "acc2, t2 = fit_and_eval(\"Very small tree (max_depth=2)\", max_depth=2, min_samples_leaf=20)\n",
        "acc3, t3 = fit_and_eval(\"Small tree (max_depth=3)\", max_depth=3, min_samples_leaf=50)\n",
        "\n",
        "# quick confusion matrix for the stump\n",
        "from pprint import pprint\n",
        "cm = confusion_matrix(Yte, stump.predict(Xte))\n",
        "print(\"\\nConfusion matrix (stump):\")\n",
        "pprint(cm)\n",
        "\n",
        "print(\"\\nClassification report (stump):\")\n",
        "print(classification_report(Yte, stump.predict(Xte), digits=4))\n"
      ]
    },
    {
      "cell_type": "markdown",
      "metadata": {
        "id": "r11MfJ603hdk"
      },
      "source": [
        "# Training"
      ]
    },
    {
      "cell_type": "code",
      "execution_count": 21,
      "metadata": {
        "colab": {
          "base_uri": "https://localhost:8080/",
          "height": 738,
          "referenced_widgets": [
            "bb193b3e035348cb886cdd092eb8037a",
            "6749898d91e149cb8a5633474e4d6ba5",
            "624c0036882f4fe6ad1930336810d6ee",
            "f0a36c9de61344519e246951c1f87094",
            "ae2df6a5e3ae47488c317aa8e36905fa",
            "765eef5d755b4ef0a5607f8d9ebb809c",
            "264e787486a147d2ba4c98bfb3fc7669",
            "99920bc11eba4b229201a8ae53357d61",
            "2829bda6d5f2481a871eb557fb2459c4",
            "8a57aa93628344258a8a890abcfc35a6",
            "28224ca5c3534fb9bddb9809e2866c48",
            "33b71deb54574149ada2f91805781177",
            "bb1a58c17f2e418e84288bbe6f715e4e",
            "2ced53ef3e4041c09365fe63c468b487",
            "f431f18287d54d2f9f62371130f667a1",
            "eb0e0670099b4a8aba17d8fe857a2a42",
            "016fe93fae324f16869373d98456d19b",
            "0fe010bb02bd4f0fa96c01bf126bee64",
            "571fefe53d814c519e2d5dae7f9c358f",
            "3bce15a834ca43fc9342884d89ba5c2d",
            "90479dc1940d46dbafa70437e773b0e7",
            "e8cc323316184d29a8bfa7614f348edb",
            "1ffc3e7561c7479ca68b0126429f62f9",
            "d6698806a08345919ebac1efc2c3117e",
            "b4b9b089474248e79cf3156674ede69a",
            "5debde88ce7241dfba3b3a258ac1649a",
            "e6f5d4ed39ff4e20aa2b954cc4d10c05",
            "cc3cc6ef08954b3cabc7f29e26204fd5",
            "fa626c204319465297467d68bad5ec9f",
            "354aa2672b134d45b842f5396f6ff4bb",
            "45ce28e7f66344148cf5311c48e34b9e",
            "f49c7efca39d4008922b48d49b8dc632",
            "514ae6fb4c844990877198ca0a9d4fac"
          ]
        },
        "id": "m-H6TinV3hdk",
        "outputId": "e3419887-0f24-4a0c-f750-2e9893193c05"
      },
      "outputs": [
        {
          "name": "stdout",
          "output_type": "stream",
          "text": [
            "\n",
            "Training naive with adam...\n"
          ]
        },
        {
          "data": {
            "application/vnd.jupyter.widget-view+json": {
              "model_id": "bb193b3e035348cb886cdd092eb8037a",
              "version_major": 2,
              "version_minor": 0
            },
            "text/plain": [
              "Epochs:   0%|          | 0/100 [00:00<?, ?it/s]"
            ]
          },
          "metadata": {},
          "output_type": "display_data"
        },
        {
          "name": "stdout",
          "output_type": "stream",
          "text": [
            "[epoch 010] loss=1.2263 | avg=1.0487 | rare=0.0000\n",
            "[epoch 020] loss=1.2453 | avg=0.9686 | rare=0.0000\n",
            "[epoch 030] loss=1.2123 | avg=0.8582 | rare=0.0000\n",
            "[epoch 040] loss=1.0680 | avg=0.6971 | rare=0.0000\n",
            "[epoch 050] loss=0.9799 | avg=0.5025 | rare=0.0000\n",
            "[epoch 060] loss=0.7619 | avg=0.4971 | rare=0.0000\n",
            "[epoch 070] loss=0.6845 | avg=0.4835 | rare=0.0000\n",
            "[epoch 080] loss=0.6878 | avg=0.4911 | rare=0.0000\n",
            "[epoch 090] loss=0.6433 | avg=0.4987 | rare=0.0000\n",
            "[epoch 100] loss=0.7621 | avg=0.5224 | rare=0.0000\n",
            "\n",
            "Training safe with adam...\n"
          ]
        },
        {
          "data": {
            "application/vnd.jupyter.widget-view+json": {
              "model_id": "33b71deb54574149ada2f91805781177",
              "version_major": 2,
              "version_minor": 0
            },
            "text/plain": [
              "Epochs:   0%|          | 0/100 [00:00<?, ?it/s]"
            ]
          },
          "metadata": {},
          "output_type": "display_data"
        },
        {
          "name": "stdout",
          "output_type": "stream",
          "text": [
            "[epoch 010] loss=10.6774 | avg=7.9644 | rare=0.0003\n",
            "[epoch 020] loss=10.8219 | avg=5.4391 | rare=0.0005\n",
            "[epoch 030] loss=9.1332 | avg=5.2764 | rare=0.0004\n",
            "[epoch 040] loss=8.3197 | avg=5.1016 | rare=0.0003\n",
            "[epoch 050] loss=8.2896 | avg=4.8858 | rare=0.0003\n",
            "[epoch 060] loss=10.0686 | avg=4.5234 | rare=0.0006\n",
            "[epoch 070] loss=10.0258 | avg=4.3930 | rare=0.0006\n",
            "[epoch 080] loss=9.3129 | avg=4.5492 | rare=0.0005\n",
            "[epoch 090] loss=11.1808 | avg=4.5968 | rare=0.0007\n",
            "[epoch 100] loss=10.8366 | avg=5.1515 | rare=0.0006\n",
            "\n",
            "Training safe_neg with adam...\n"
          ]
        },
        {
          "data": {
            "application/vnd.jupyter.widget-view+json": {
              "model_id": "1ffc3e7561c7479ca68b0126429f62f9",
              "version_major": 2,
              "version_minor": 0
            },
            "text/plain": [
              "Epochs:   0%|          | 0/100 [00:00<?, ?it/s]"
            ]
          },
          "metadata": {},
          "output_type": "display_data"
        },
        {
          "name": "stdout",
          "output_type": "stream",
          "text": [
            "[epoch 010] loss=52.1748 | avg=50.0464 | rare=0.0002\n",
            "[epoch 020] loss=41.3283 | avg=34.8160 | rare=0.0007\n",
            "[epoch 030] loss=50.0816 | avg=43.6136 | rare=0.0006\n",
            "[epoch 040] loss=55.7622 | avg=44.4547 | rare=0.0011\n",
            "[epoch 050] loss=64.9639 | avg=52.4654 | rare=0.0012\n",
            "[epoch 060] loss=75.7699 | avg=51.1251 | rare=0.0025\n",
            "[epoch 070] loss=83.9104 | avg=54.8228 | rare=0.0029\n",
            "[epoch 080] loss=96.0435 | avg=59.1027 | rare=0.0037\n",
            "[epoch 090] loss=106.6515 | avg=66.6609 | rare=0.0040\n",
            "[epoch 100] loss=125.0523 | avg=62.3124 | rare=0.0063\n"
          ]
        }
      ],
      "source": [
        "results = train_all(X_train, y_train,pre_model, NUM_EPOCHS, GAMMA, SAMPLES_TRAIN, SIGMA, opts =[\"sgd\"] )"
      ]
    },
    {
      "cell_type": "markdown",
      "metadata": {
        "id": "nt5938wv3hdk"
      },
      "source": [
        "# Results"
      ]
    },
    {
      "cell_type": "markdown",
      "metadata": {
        "id": "dSsDnEPj3hdk"
      },
      "source": [
        "## Loss Trajectories"
      ]
    },
    {
      "cell_type": "code",
      "execution_count": 22,
      "metadata": {
        "colab": {
          "base_uri": "https://localhost:8080/",
          "height": 1000
        },
        "id": "QC2aw8mn3hdk",
        "outputId": "8afd255d-30e5-4a01-aa97-418a7b7c49b4"
      },
      "outputs": [
        {
          "data": {
            "image/png": "[encoded data removed]",
            "text/plain": [
              "<Figure size 640x480 with 1 Axes>"
            ]
          },
          "metadata": {},
          "output_type": "display_data"
        },
        {
          "data": {
            "image/png": "[encoded data removed]",
            "text/plain": [
              "<Figure size 640x480 with 1 Axes>"
            ]
          },
          "metadata": {},
          "output_type": "display_data"
        },
        {
          "data": {
            "image/png": "[encoded data removed]",
            "text/plain": [
              "<Figure size 640x480 with 1 Axes>"
            ]
          },
          "metadata": {},
          "output_type": "display_data"
        }
      ],
      "source": [
        "plot_all_loss(results, show_log=True)"
      ]
    },
    {
      "cell_type": "markdown",
      "metadata": {
        "id": "FJl1G4Fg3hdk"
      },
      "source": [
        "## Accuracies"
      ]
    },
    {
      "cell_type": "code",
      "execution_count": null,
      "metadata": {
        "id": "oySuBEoV3hdk",
        "outputId": "2e0ae585-42f1-45a1-e381-e72d43725375"
      },
      "outputs": [
        {
          "name": "stdout",
          "output_type": "stream",
          "text": [
            "Accuracy: 63.96%  (CI 95%: [62.63%, 65.28%])\n",
            "Robust Accuracy: 63.96415%  (CI 95%: [62.80876%, 65.35857%])\n",
            "Conditional Robust Accuracy: 100.00000%  (CI 95%: [100.00000%, 100.00000%])\n",
            "Accuracy: 68.96%  (CI 95%: [67.67%, 70.23%])\n",
            "Robust Accuracy: 69.33267%  (CI 95%: [68.13745%, 70.59811%])\n",
            "Conditional Robust Accuracy: 98.88793%  (CI 95%: [98.59908%, 99.14789%])\n",
            "Accuracy: 36.04%  (CI 95%: [34.72%, 37.37%])\n",
            "Robust Accuracy: 35.98606%  (CI 95%: [34.60134%, 37.16160%])\n",
            "Conditional Robust Accuracy: 99.86180%  (CI 95%: [99.72360%, 99.97236%])\n",
            "Accuracy: 63.96%  (CI 95%: [62.63%, 65.28%])\n",
            "Robust Accuracy: 63.98407%  (CI 95%: [62.80876%, 65.35906%])\n",
            "Conditional Robust Accuracy: 100.00000%  (CI 95%: [100.00000%, 100.00000%])\n",
            "Accuracy: 63.96%  (CI 95%: [62.63%, 65.28%])\n",
            "Robust Accuracy: 63.96415%  (CI 95%: [62.80876%, 65.35857%])\n",
            "Conditional Robust Accuracy: 100.00000%  (CI 95%: [100.00000%, 100.00000%])\n",
            "Accuracy: 36.04%  (CI 95%: [34.72%, 37.37%])\n",
            "Robust Accuracy: 36.03586%  (CI 95%: [34.64143%, 37.19124%])\n",
            "Conditional Robust Accuracy: 100.00000%  (CI 95%: [100.00000%, 100.00000%])\n",
            "\n",
            "=== Summary (mean ± 95% CI) ===\n",
            "naive     (ADAM):  Acc 63.96% [62.63%, 65.28%]  |  RA 63.96% [62.81%, 65.36%]  |  CRA 100.00% [100.00%, 100.00%]\n",
            "safe      (ADAM):  Acc 68.96% [67.67%, 70.23%]  |  RA 69.33% [68.14%, 70.60%]  |  CRA 98.89% [98.60%, 99.15%]\n",
            "safe_neg  (ADAM):  Acc 36.04% [34.72%, 37.37%]  |  RA 35.99% [34.60%, 37.16%]  |  CRA 99.86% [99.72%, 99.97%]\n",
            "naive     (SGD ):  Acc 63.96% [62.63%, 65.28%]  |  RA 63.98% [62.81%, 65.36%]  |  CRA 100.00% [100.00%, 100.00%]\n",
            "safe      (SGD ):  Acc 63.96% [62.63%, 65.28%]  |  RA 63.96% [62.81%, 65.36%]  |  CRA 100.00% [100.00%, 100.00%]\n",
            "safe_neg  (SGD ):  Acc 36.04% [34.72%, 37.37%]  |  RA 36.04% [34.64%, 37.19%]  |  CRA 100.00% [100.00%, 100.00%]\n"
          ]
        }
      ],
      "source": [
        "# _ = eval_all(results, X_test, y_test, SIGMA, SAMPLES_EVAL)"
      ]
    },
    {
      "cell_type": "code",
      "execution_count": 23,
      "metadata": {
        "colab": {
          "base_uri": "https://localhost:8080/"
        },
        "id": "x_3fTWgL6VWt",
        "outputId": "66fc990a-59be-48f4-e7d7-a70a4680ee1a"
      },
      "outputs": [
        {
          "name": "stdout",
          "output_type": "stream",
          "text": [
            "Accuracy: 38.09%  (CI 95%: [37.28%, 38.89%])\n",
            "Robust Accuracy: 38.10764%  (CI 95%: [37.34945%, 38.85495%])\n",
            "Conditional Robust Accuracy: 99.61535%  (CI 95%: [99.50762%, 99.70247%])\n"
          ]
        }
      ],
      "source": [
        "_ = eval_one(\n",
        "    pre_model, X_train, y_train,\n",
        "    sigma=SIGMA, SAMPLES_EVAL=SAMPLES_EVAL,\n",
        "    J_chunk=5000,        # <= keep m small\n",
        "    N_chunk=512,      # <= keep B small\n",
        "    B=300             # <= lighter bootstrap\n",
        ")"
      ]
    },
    {
      "cell_type": "code",
      "execution_count": 24,
      "metadata": {
        "colab": {
          "base_uri": "https://localhost:8080/"
        },
        "id": "stC4N_8spXuK",
        "outputId": "6af1846f-65b4-4e04-b2f8-9944f149b792"
      },
      "outputs": [
        {
          "name": "stdout",
          "output_type": "stream",
          "text": [
            "Accuracy: 82.06%  (CI 95%: [81.42%, 82.69%])\n",
            "Robust Accuracy: 82.04451%  (CI 95%: [81.48105%, 82.67581%])\n",
            "Conditional Robust Accuracy: 99.85071%  (CI 95%: [99.81083%, 99.88348%])\n"
          ]
        }
      ],
      "source": [
        "_ = eval_one(\n",
        "    results[('naive', 'sgd')][0], X_train, y_train,\n",
        "    sigma=SIGMA, SAMPLES_EVAL=SAMPLES_EVAL,\n",
        "    J_chunk=5000,        # <= keep m small\n",
        "    N_chunk=512,      # <= keep B small\n",
        "    B=300             # <= lighter bootstrap\n",
        ")"
      ]
    },
    {
      "cell_type": "code",
      "execution_count": 25,
      "metadata": {
        "colab": {
          "base_uri": "https://localhost:8080/"
        },
        "id": "bYnCKLux5ZvU",
        "outputId": "99774b7c-5644-4d05-c1b2-20a98cef87f6"
      },
      "outputs": [
        {
          "name": "stdout",
          "output_type": "stream",
          "text": [
            "Accuracy: 79.88%  (CI 95%: [79.21%, 80.53%])\n",
            "Robust Accuracy: 79.87707%  (CI 95%: [79.27505%, 80.51704%])\n",
            "Conditional Robust Accuracy: 99.92183%  (CI 95%: [99.89304%, 99.94778%])\n"
          ]
        }
      ],
      "source": [
        "_ = eval_one(\n",
        "    results[('safe', 'sgd')][0], X_train, y_train,\n",
        "    sigma=SIGMA, SAMPLES_EVAL=SAMPLES_EVAL,\n",
        "    J_chunk=5000,        # <= keep m small\n",
        "    N_chunk=512,      # <= keep B small\n",
        "    B=300             # <= lighter bootstrap\n",
        ")"
      ]
    },
    {
      "cell_type": "code",
      "execution_count": 26,
      "metadata": {
        "colab": {
          "base_uri": "https://localhost:8080/"
        },
        "id": "Z5qO_jlF5dBi",
        "outputId": "9a6fd2e6-63e6-485b-f449-fda1806dbcc5"
      },
      "outputs": [
        {
          "name": "stdout",
          "output_type": "stream",
          "text": [
            "Accuracy: 72.17%  (CI 95%: [70.91%, 73.39%])\n",
            "Robust Accuracy: 72.19623%  (CI 95%: [71.03509%, 73.47996%])\n",
            "Conditional Robust Accuracy: 99.86691%  (CI 95%: [99.79412%, 99.93123%])\n"
          ]
        }
      ],
      "source": [
        "_ = eval_one(\n",
        "    results[('safe_neg', 'sgd')][0], X_test, y_test,\n",
        "    sigma=SIGMA, SAMPLES_EVAL=SAMPLES_EVAL,\n",
        "    J_chunk=500,        # <= keep m small\n",
        "    N_chunk=512,      # <= keep B small\n",
        "    B=300             # <= lighter bootstrap\n",
        ")"
      ]
    },
    {
      "cell_type": "code",
      "execution_count": null,
      "metadata": {
        "id": "vKi5W1wQ5e-J"
      },
      "outputs": [],
      "source": [
        "1+1"
      ]
    },
    {
      "cell_type": "code",
      "execution_count": null,
      "metadata": {
        "id": "xySXVnRPL32m"
      },
      "outputs": [],
      "source": []
    }
  ],
  "metadata": {
    "accelerator": "GPU",
    "colab": {
      "gpuType": "A100",
      "machine_shape": "hm",
      "provenance": []
    },
    "kernelspec": {
      "display_name": "Python 3",
      "name": "python3"
    },
    "language_info": {
      "codemirror_mode": {
        "name": "ipython",
        "version": 3
      },
      "file_extension": ".py",
      "mimetype": "text/x-python",
      "name": "python",
      "nbconvert_exporter": "python",
      "pygments_lexer": "ipython3",
      "version": "3.9.6"
    },
    "widgets": {
      "application/vnd.jupyter.widget-state+json": {
        "016fe93fae324f16869373d98456d19b": {
          "model_module": "@jupyter-widgets/base",
          "model_module_version": "1.2.0",
          "model_name": "LayoutModel",
          "state": {
            "_model_module": "@jupyter-widgets/base",
            "_model_module_version": "1.2.0",
            "_model_name": "LayoutModel",
            "_view_count": null,
            "_view_module": "@jupyter-widgets/base",
            "_view_module_version": "1.2.0",
            "_view_name": "LayoutView",
            "align_content": null,
            "align_items": null,
            "align_self": null,
            "border": null,
            "bottom": null,
            "display": null,
            "flex": null,
            "flex_flow": null,
            "grid_area": null,
            "grid_auto_columns": null,
            "grid_auto_flow": null,
            "grid_auto_rows": null,
            "grid_column": null,
            "grid_gap": null,
            "grid_row": null,
            "grid_template_areas": null,
            "grid_template_columns": null,
            "grid_template_rows": null,
            "height": null,
            "justify_content": null,
            "justify_items": null,
            "left": null,
            "margin": null,
            "max_height": null,
            "max_width": null,
            "min_height": null,
            "min_width": null,
            "object_fit": null,
            "object_position": null,
            "order": null,
            "overflow": null,
            "overflow_x": null,
            "overflow_y": null,
            "padding": null,
            "right": null,
            "top": null,
            "visibility": null,
            "width": null
          }
        },
        "0fe010bb02bd4f0fa96c01bf126bee64": {
          "model_module": "@jupyter-widgets/controls",
          "model_module_version": "1.5.0",
          "model_name": "DescriptionStyleModel",
          "state": {
            "_model_module": "@jupyter-widgets/controls",
            "_model_module_version": "1.5.0",
            "_model_name": "DescriptionStyleModel",
            "_view_count": null,
            "_view_module": "@jupyter-widgets/base",
            "_view_module_version": "1.2.0",
            "_view_name": "StyleView",
            "description_width": ""
          }
        },
        "1ffc3e7561c7479ca68b0126429f62f9": {
          "model_module": "@jupyter-widgets/controls",
          "model_module_version": "1.5.0",
          "model_name": "HBoxModel",
          "state": {
            "_dom_classes": [],
            "_model_module": "@jupyter-widgets/controls",
            "_model_module_version": "1.5.0",
            "_model_name": "HBoxModel",
            "_view_count": null,
            "_view_module": "@jupyter-widgets/controls",
            "_view_module_version": "1.5.0",
            "_view_name": "HBoxView",
            "box_style": "",
            "children": [
              "IPY_MODEL_d6698806a08345919ebac1efc2c3117e",
              "IPY_MODEL_b4b9b089474248e79cf3156674ede69a",
              "IPY_MODEL_5debde88ce7241dfba3b3a258ac1649a"
            ],
            "layout": "IPY_MODEL_e6f5d4ed39ff4e20aa2b954cc4d10c05"
          }
        },
        "264e787486a147d2ba4c98bfb3fc7669": {
          "model_module": "@jupyter-widgets/controls",
          "model_module_version": "1.5.0",
          "model_name": "DescriptionStyleModel",
          "state": {
            "_model_module": "@jupyter-widgets/controls",
            "_model_module_version": "1.5.0",
            "_model_name": "DescriptionStyleModel",
            "_view_count": null,
            "_view_module": "@jupyter-widgets/base",
            "_view_module_version": "1.2.0",
            "_view_name": "StyleView",
            "description_width": ""
          }
        },
        "28224ca5c3534fb9bddb9809e2866c48": {
          "model_module": "@jupyter-widgets/controls",
          "model_module_version": "1.5.0",
          "model_name": "DescriptionStyleModel",
          "state": {
            "_model_module": "@jupyter-widgets/controls",
            "_model_module_version": "1.5.0",
            "_model_name": "DescriptionStyleModel",
            "_view_count": null,
            "_view_module": "@jupyter-widgets/base",
            "_view_module_version": "1.2.0",
            "_view_name": "StyleView",
            "description_width": ""
          }
        },
        "2829bda6d5f2481a871eb557fb2459c4": {
          "model_module": "@jupyter-widgets/controls",
          "model_module_version": "1.5.0",
          "model_name": "ProgressStyleModel",
          "state": {
            "_model_module": "@jupyter-widgets/controls",
            "_model_module_version": "1.5.0",
            "_model_name": "ProgressStyleModel",
            "_view_count": null,
            "_view_module": "@jupyter-widgets/base",
            "_view_module_version": "1.2.0",
            "_view_name": "StyleView",
            "bar_color": null,
            "description_width": ""
          }
        },
        "2ced53ef3e4041c09365fe63c468b487": {
          "model_module": "@jupyter-widgets/controls",
          "model_module_version": "1.5.0",
          "model_name": "FloatProgressModel",
          "state": {
            "_dom_classes": [],
            "_model_module": "@jupyter-widgets/controls",
            "_model_module_version": "1.5.0",
            "_model_name": "FloatProgressModel",
            "_view_count": null,
            "_view_module": "@jupyter-widgets/controls",
            "_view_module_version": "1.5.0",
            "_view_name": "ProgressView",
            "bar_style": "success",
            "description": "",
            "description_tooltip": null,
            "layout": "IPY_MODEL_571fefe53d814c519e2d5dae7f9c358f",
            "max": 100,
            "min": 0,
            "orientation": "horizontal",
            "style": "IPY_MODEL_3bce15a834ca43fc9342884d89ba5c2d",
            "value": 100
          }
        },
        "33b71deb54574149ada2f91805781177": {
          "model_module": "@jupyter-widgets/controls",
          "model_module_version": "1.5.0",
          "model_name": "HBoxModel",
          "state": {
            "_dom_classes": [],
            "_model_module": "@jupyter-widgets/controls",
            "_model_module_version": "1.5.0",
            "_model_name": "HBoxModel",
            "_view_count": null,
            "_view_module": "@jupyter-widgets/controls",
            "_view_module_version": "1.5.0",
            "_view_name": "HBoxView",
            "box_style": "",
            "children": [
              "IPY_MODEL_bb1a58c17f2e418e84288bbe6f715e4e",
              "IPY_MODEL_2ced53ef3e4041c09365fe63c468b487",
              "IPY_MODEL_f431f18287d54d2f9f62371130f667a1"
            ],
            "layout": "IPY_MODEL_eb0e0670099b4a8aba17d8fe857a2a42"
          }
        },
        "354aa2672b134d45b842f5396f6ff4bb": {
          "model_module": "@jupyter-widgets/base",
          "model_module_version": "1.2.0",
          "model_name": "LayoutModel",
          "state": {
            "_model_module": "@jupyter-widgets/base",
            "_model_module_version": "1.2.0",
            "_model_name": "LayoutModel",
            "_view_count": null,
            "_view_module": "@jupyter-widgets/base",
            "_view_module_version": "1.2.0",
            "_view_name": "LayoutView",
            "align_content": null,
            "align_items": null,
            "align_self": null,
            "border": null,
            "bottom": null,
            "display": null,
            "flex": "2",
            "flex_flow": null,
            "grid_area": null,
            "grid_auto_columns": null,
            "grid_auto_flow": null,
            "grid_auto_rows": null,
            "grid_column": null,
            "grid_gap": null,
            "grid_row": null,
            "grid_template_areas": null,
            "grid_template_columns": null,
            "grid_template_rows": null,
            "height": null,
            "justify_content": null,
            "justify_items": null,
            "left": null,
            "margin": null,
            "max_height": null,
            "max_width": null,
            "min_height": null,
            "min_width": null,
            "object_fit": null,
            "object_position": null,
            "order": null,
            "overflow": null,
            "overflow_x": null,
            "overflow_y": null,
            "padding": null,
            "right": null,
            "top": null,
            "visibility": null,
            "width": null
          }
        },
        "3bce15a834ca43fc9342884d89ba5c2d": {
          "model_module": "@jupyter-widgets/controls",
          "model_module_version": "1.5.0",
          "model_name": "ProgressStyleModel",
          "state": {
            "_model_module": "@jupyter-widgets/controls",
            "_model_module_version": "1.5.0",
            "_model_name": "ProgressStyleModel",
            "_view_count": null,
            "_view_module": "@jupyter-widgets/base",
            "_view_module_version": "1.2.0",
            "_view_name": "StyleView",
            "bar_color": null,
            "description_width": ""
          }
        },
        "3dbe2307803647df80fc446f0da51404": {
          "model_module": "@jupyter-widgets/controls",
          "model_module_version": "1.5.0",
          "model_name": "DescriptionStyleModel",
          "state": {
            "_model_module": "@jupyter-widgets/controls",
            "_model_module_version": "1.5.0",
            "_model_name": "DescriptionStyleModel",
            "_view_count": null,
            "_view_module": "@jupyter-widgets/base",
            "_view_module_version": "1.2.0",
            "_view_name": "StyleView",
            "description_width": ""
          }
        },
        "45ce28e7f66344148cf5311c48e34b9e": {
          "model_module": "@jupyter-widgets/controls",
          "model_module_version": "1.5.0",
          "model_name": "ProgressStyleModel",
          "state": {
            "_model_module": "@jupyter-widgets/controls",
            "_model_module_version": "1.5.0",
            "_model_name": "ProgressStyleModel",
            "_view_count": null,
            "_view_module": "@jupyter-widgets/base",
            "_view_module_version": "1.2.0",
            "_view_name": "StyleView",
            "bar_color": null,
            "description_width": ""
          }
        },
        "514ae6fb4c844990877198ca0a9d4fac": {
          "model_module": "@jupyter-widgets/controls",
          "model_module_version": "1.5.0",
          "model_name": "DescriptionStyleModel",
          "state": {
            "_model_module": "@jupyter-widgets/controls",
            "_model_module_version": "1.5.0",
            "_model_name": "DescriptionStyleModel",
            "_view_count": null,
            "_view_module": "@jupyter-widgets/base",
            "_view_module_version": "1.2.0",
            "_view_name": "StyleView",
            "description_width": ""
          }
        },
        "571fefe53d814c519e2d5dae7f9c358f": {
          "model_module": "@jupyter-widgets/base",
          "model_module_version": "1.2.0",
          "model_name": "LayoutModel",
          "state": {
            "_model_module": "@jupyter-widgets/base",
            "_model_module_version": "1.2.0",
            "_model_name": "LayoutModel",
            "_view_count": null,
            "_view_module": "@jupyter-widgets/base",
            "_view_module_version": "1.2.0",
            "_view_name": "LayoutView",
            "align_content": null,
            "align_items": null,
            "align_self": null,
            "border": null,
            "bottom": null,
            "display": null,
            "flex": "2",
            "flex_flow": null,
            "grid_area": null,
            "grid_auto_columns": null,
            "grid_auto_flow": null,
            "grid_auto_rows": null,
            "grid_column": null,
            "grid_gap": null,
            "grid_row": null,
            "grid_template_areas": null,
            "grid_template_columns": null,
            "grid_template_rows": null,
            "height": null,
            "justify_content": null,
            "justify_items": null,
            "left": null,
            "margin": null,
            "max_height": null,
            "max_width": null,
            "min_height": null,
            "min_width": null,
            "object_fit": null,
            "object_position": null,
            "order": null,
            "overflow": null,
            "overflow_x": null,
            "overflow_y": null,
            "padding": null,
            "right": null,
            "top": null,
            "visibility": null,
            "width": null
          }
        },
        "5debde88ce7241dfba3b3a258ac1649a": {
          "model_module": "@jupyter-widgets/controls",
          "model_module_version": "1.5.0",
          "model_name": "HTMLModel",
          "state": {
            "_dom_classes": [],
            "_model_module": "@jupyter-widgets/controls",
            "_model_module_version": "1.5.0",
            "_model_name": "HTMLModel",
            "_view_count": null,
            "_view_module": "@jupyter-widgets/controls",
            "_view_module_version": "1.5.0",
            "_view_name": "HTMLView",
            "description": "",
            "description_tooltip": null,
            "layout": "IPY_MODEL_f49c7efca39d4008922b48d49b8dc632",
            "placeholder": "​",
            "style": "IPY_MODEL_514ae6fb4c844990877198ca0a9d4fac",
            "value": " 100/100 [02:50&lt;00:00,  1.70s/it]"
          }
        },
        "613b0ed90285458e96d3cf6cfb79b2c6": {
          "model_module": "@jupyter-widgets/controls",
          "model_module_version": "1.5.0",
          "model_name": "HTMLModel",
          "state": {
            "_dom_classes": [],
            "_model_module": "@jupyter-widgets/controls",
            "_model_module_version": "1.5.0",
            "_model_name": "HTMLModel",
            "_view_count": null,
            "_view_module": "@jupyter-widgets/controls",
            "_view_module_version": "1.5.0",
            "_view_name": "HTMLView",
            "description": "",
            "description_tooltip": null,
            "layout": "IPY_MODEL_ae93af4a23e74778915751c18b04304b",
            "placeholder": "​",
            "style": "IPY_MODEL_3dbe2307803647df80fc446f0da51404",
            "value": " 1/1 [00:01&lt;00:00,  1.21s/it]"
          }
        },
        "624c0036882f4fe6ad1930336810d6ee": {
          "model_module": "@jupyter-widgets/controls",
          "model_module_version": "1.5.0",
          "model_name": "FloatProgressModel",
          "state": {
            "_dom_classes": [],
            "_model_module": "@jupyter-widgets/controls",
            "_model_module_version": "1.5.0",
            "_model_name": "FloatProgressModel",
            "_view_count": null,
            "_view_module": "@jupyter-widgets/controls",
            "_view_module_version": "1.5.0",
            "_view_name": "ProgressView",
            "bar_style": "success",
            "description": "",
            "description_tooltip": null,
            "layout": "IPY_MODEL_99920bc11eba4b229201a8ae53357d61",
            "max": 100,
            "min": 0,
            "orientation": "horizontal",
            "style": "IPY_MODEL_2829bda6d5f2481a871eb557fb2459c4",
            "value": 100
          }
        },
        "6701f7877fac4463a8ed2e6244aa95d6": {
          "model_module": "@jupyter-widgets/base",
          "model_module_version": "1.2.0",
          "model_name": "LayoutModel",
          "state": {
            "_model_module": "@jupyter-widgets/base",
            "_model_module_version": "1.2.0",
            "_model_name": "LayoutModel",
            "_view_count": null,
            "_view_module": "@jupyter-widgets/base",
            "_view_module_version": "1.2.0",
            "_view_name": "LayoutView",
            "align_content": null,
            "align_items": null,
            "align_self": null,
            "border": null,
            "bottom": null,
            "display": "inline-flex",
            "flex": null,
            "flex_flow": "row wrap",
            "grid_area": null,
            "grid_auto_columns": null,
            "grid_auto_flow": null,
            "grid_auto_rows": null,
            "grid_column": null,
            "grid_gap": null,
            "grid_row": null,
            "grid_template_areas": null,
            "grid_template_columns": null,
            "grid_template_rows": null,
            "height": null,
            "justify_content": null,
            "justify_items": null,
            "left": null,
            "margin": null,
            "max_height": null,
            "max_width": null,
            "min_height": null,
            "min_width": null,
            "object_fit": null,
            "object_position": null,
            "order": null,
            "overflow": null,
            "overflow_x": null,
            "overflow_y": null,
            "padding": null,
            "right": null,
            "top": null,
            "visibility": null,
            "width": "100%"
          }
        },
        "6749898d91e149cb8a5633474e4d6ba5": {
          "model_module": "@jupyter-widgets/controls",
          "model_module_version": "1.5.0",
          "model_name": "HTMLModel",
          "state": {
            "_dom_classes": [],
            "_model_module": "@jupyter-widgets/controls",
            "_model_module_version": "1.5.0",
            "_model_name": "HTMLModel",
            "_view_count": null,
            "_view_module": "@jupyter-widgets/controls",
            "_view_module_version": "1.5.0",
            "_view_name": "HTMLView",
            "description": "",
            "description_tooltip": null,
            "layout": "IPY_MODEL_765eef5d755b4ef0a5607f8d9ebb809c",
            "placeholder": "​",
            "style": "IPY_MODEL_264e787486a147d2ba4c98bfb3fc7669",
            "value": "Epochs: 100%"
          }
        },
        "765eef5d755b4ef0a5607f8d9ebb809c": {
          "model_module": "@jupyter-widgets/base",
          "model_module_version": "1.2.0",
          "model_name": "LayoutModel",
          "state": {
            "_model_module": "@jupyter-widgets/base",
            "_model_module_version": "1.2.0",
            "_model_name": "LayoutModel",
            "_view_count": null,
            "_view_module": "@jupyter-widgets/base",
            "_view_module_version": "1.2.0",
            "_view_name": "LayoutView",
            "align_content": null,
            "align_items": null,
            "align_self": null,
            "border": null,
            "bottom": null,
            "display": null,
            "flex": null,
            "flex_flow": null,
            "grid_area": null,
            "grid_auto_columns": null,
            "grid_auto_flow": null,
            "grid_auto_rows": null,
            "grid_column": null,
            "grid_gap": null,
            "grid_row": null,
            "grid_template_areas": null,
            "grid_template_columns": null,
            "grid_template_rows": null,
            "height": null,
            "justify_content": null,
            "justify_items": null,
            "left": null,
            "margin": null,
            "max_height": null,
            "max_width": null,
            "min_height": null,
            "min_width": null,
            "object_fit": null,
            "object_position": null,
            "order": null,
            "overflow": null,
            "overflow_x": null,
            "overflow_y": null,
            "padding": null,
            "right": null,
            "top": null,
            "visibility": null,
            "width": null
          }
        },
        "77658d06ae9544cda9793bc79725fa03": {
          "model_module": "@jupyter-widgets/base",
          "model_module_version": "1.2.0",
          "model_name": "LayoutModel",
          "state": {
            "_model_module": "@jupyter-widgets/base",
            "_model_module_version": "1.2.0",
            "_model_name": "LayoutModel",
            "_view_count": null,
            "_view_module": "@jupyter-widgets/base",
            "_view_module_version": "1.2.0",
            "_view_name": "LayoutView",
            "align_content": null,
            "align_items": null,
            "align_self": null,
            "border": null,
            "bottom": null,
            "display": null,
            "flex": null,
            "flex_flow": null,
            "grid_area": null,
            "grid_auto_columns": null,
            "grid_auto_flow": null,
            "grid_auto_rows": null,
            "grid_column": null,
            "grid_gap": null,
            "grid_row": null,
            "grid_template_areas": null,
            "grid_template_columns": null,
            "grid_template_rows": null,
            "height": null,
            "justify_content": null,
            "justify_items": null,
            "left": null,
            "margin": null,
            "max_height": null,
            "max_width": null,
            "min_height": null,
            "min_width": null,
            "object_fit": null,
            "object_position": null,
            "order": null,
            "overflow": null,
            "overflow_x": null,
            "overflow_y": null,
            "padding": null,
            "right": null,
            "top": null,
            "visibility": null,
            "width": null
          }
        },
        "8a57aa93628344258a8a890abcfc35a6": {
          "model_module": "@jupyter-widgets/base",
          "model_module_version": "1.2.0",
          "model_name": "LayoutModel",
          "state": {
            "_model_module": "@jupyter-widgets/base",
            "_model_module_version": "1.2.0",
            "_model_name": "LayoutModel",
            "_view_count": null,
            "_view_module": "@jupyter-widgets/base",
            "_view_module_version": "1.2.0",
            "_view_name": "LayoutView",
            "align_content": null,
            "align_items": null,
            "align_self": null,
            "border": null,
            "bottom": null,
            "display": null,
            "flex": null,
            "flex_flow": null,
            "grid_area": null,
            "grid_auto_columns": null,
            "grid_auto_flow": null,
            "grid_auto_rows": null,
            "grid_column": null,
            "grid_gap": null,
            "grid_row": null,
            "grid_template_areas": null,
            "grid_template_columns": null,
            "grid_template_rows": null,
            "height": null,
            "justify_content": null,
            "justify_items": null,
            "left": null,
            "margin": null,
            "max_height": null,
            "max_width": null,
            "min_height": null,
            "min_width": null,
            "object_fit": null,
            "object_position": null,
            "order": null,
            "overflow": null,
            "overflow_x": null,
            "overflow_y": null,
            "padding": null,
            "right": null,
            "top": null,
            "visibility": null,
            "width": null
          }
        },
        "90479dc1940d46dbafa70437e773b0e7": {
          "model_module": "@jupyter-widgets/base",
          "model_module_version": "1.2.0",
          "model_name": "LayoutModel",
          "state": {
            "_model_module": "@jupyter-widgets/base",
            "_model_module_version": "1.2.0",
            "_model_name": "LayoutModel",
            "_view_count": null,
            "_view_module": "@jupyter-widgets/base",
            "_view_module_version": "1.2.0",
            "_view_name": "LayoutView",
            "align_content": null,
            "align_items": null,
            "align_self": null,
            "border": null,
            "bottom": null,
            "display": null,
            "flex": null,
            "flex_flow": null,
            "grid_area": null,
            "grid_auto_columns": null,
            "grid_auto_flow": null,
            "grid_auto_rows": null,
            "grid_column": null,
            "grid_gap": null,
            "grid_row": null,
            "grid_template_areas": null,
            "grid_template_columns": null,
            "grid_template_rows": null,
            "height": null,
            "justify_content": null,
            "justify_items": null,
            "left": null,
            "margin": null,
            "max_height": null,
            "max_width": null,
            "min_height": null,
            "min_width": null,
            "object_fit": null,
            "object_position": null,
            "order": null,
            "overflow": null,
            "overflow_x": null,
            "overflow_y": null,
            "padding": null,
            "right": null,
            "top": null,
            "visibility": null,
            "width": null
          }
        },
        "951de950992e416e8cac2c995cb8479a": {
          "model_module": "@jupyter-widgets/controls",
          "model_module_version": "1.5.0",
          "model_name": "HTMLModel",
          "state": {
            "_dom_classes": [],
            "_model_module": "@jupyter-widgets/controls",
            "_model_module_version": "1.5.0",
            "_model_name": "HTMLModel",
            "_view_count": null,
            "_view_module": "@jupyter-widgets/controls",
            "_view_module_version": "1.5.0",
            "_view_name": "HTMLView",
            "description": "",
            "description_tooltip": null,
            "layout": "IPY_MODEL_77658d06ae9544cda9793bc79725fa03",
            "placeholder": "​",
            "style": "IPY_MODEL_fda92a2bf55d47afabeeec54db21737b",
            "value": "Epochs: 100%"
          }
        },
        "96f2e5435edf4c3b880d10913fd728a9": {
          "model_module": "@jupyter-widgets/controls",
          "model_module_version": "1.5.0",
          "model_name": "FloatProgressModel",
          "state": {
            "_dom_classes": [],
            "_model_module": "@jupyter-widgets/controls",
            "_model_module_version": "1.5.0",
            "_model_name": "FloatProgressModel",
            "_view_count": null,
            "_view_module": "@jupyter-widgets/controls",
            "_view_module_version": "1.5.0",
            "_view_name": "ProgressView",
            "bar_style": "success",
            "description": "",
            "description_tooltip": null,
            "layout": "IPY_MODEL_98171e2abc5749028c0c6e90346fdda4",
            "max": 1,
            "min": 0,
            "orientation": "horizontal",
            "style": "IPY_MODEL_ce141c91e9d14f0fbbabb238f9556c47",
            "value": 1
          }
        },
        "98171e2abc5749028c0c6e90346fdda4": {
          "model_module": "@jupyter-widgets/base",
          "model_module_version": "1.2.0",
          "model_name": "LayoutModel",
          "state": {
            "_model_module": "@jupyter-widgets/base",
            "_model_module_version": "1.2.0",
            "_model_name": "LayoutModel",
            "_view_count": null,
            "_view_module": "@jupyter-widgets/base",
            "_view_module_version": "1.2.0",
            "_view_name": "LayoutView",
            "align_content": null,
            "align_items": null,
            "align_self": null,
            "border": null,
            "bottom": null,
            "display": null,
            "flex": "2",
            "flex_flow": null,
            "grid_area": null,
            "grid_auto_columns": null,
            "grid_auto_flow": null,
            "grid_auto_rows": null,
            "grid_column": null,
            "grid_gap": null,
            "grid_row": null,
            "grid_template_areas": null,
            "grid_template_columns": null,
            "grid_template_rows": null,
            "height": null,
            "justify_content": null,
            "justify_items": null,
            "left": null,
            "margin": null,
            "max_height": null,
            "max_width": null,
            "min_height": null,
            "min_width": null,
            "object_fit": null,
            "object_position": null,
            "order": null,
            "overflow": null,
            "overflow_x": null,
            "overflow_y": null,
            "padding": null,
            "right": null,
            "top": null,
            "visibility": null,
            "width": null
          }
        },
        "99920bc11eba4b229201a8ae53357d61": {
          "model_module": "@jupyter-widgets/base",
          "model_module_version": "1.2.0",
          "model_name": "LayoutModel",
          "state": {
            "_model_module": "@jupyter-widgets/base",
            "_model_module_version": "1.2.0",
            "_model_name": "LayoutModel",
            "_view_count": null,
            "_view_module": "@jupyter-widgets/base",
            "_view_module_version": "1.2.0",
            "_view_name": "LayoutView",
            "align_content": null,
            "align_items": null,
            "align_self": null,
            "border": null,
            "bottom": null,
            "display": null,
            "flex": "2",
            "flex_flow": null,
            "grid_area": null,
            "grid_auto_columns": null,
            "grid_auto_flow": null,
            "grid_auto_rows": null,
            "grid_column": null,
            "grid_gap": null,
            "grid_row": null,
            "grid_template_areas": null,
            "grid_template_columns": null,
            "grid_template_rows": null,
            "height": null,
            "justify_content": null,
            "justify_items": null,
            "left": null,
            "margin": null,
            "max_height": null,
            "max_width": null,
            "min_height": null,
            "min_width": null,
            "object_fit": null,
            "object_position": null,
            "order": null,
            "overflow": null,
            "overflow_x": null,
            "overflow_y": null,
            "padding": null,
            "right": null,
            "top": null,
            "visibility": null,
            "width": null
          }
        },
        "acd11bfaf46c4b828420ba8dfee501f9": {
          "model_module": "@jupyter-widgets/controls",
          "model_module_version": "1.5.0",
          "model_name": "HBoxModel",
          "state": {
            "_dom_classes": [],
            "_model_module": "@jupyter-widgets/controls",
            "_model_module_version": "1.5.0",
            "_model_name": "HBoxModel",
            "_view_count": null,
            "_view_module": "@jupyter-widgets/controls",
            "_view_module_version": "1.5.0",
            "_view_name": "HBoxView",
            "box_style": "",
            "children": [
              "IPY_MODEL_951de950992e416e8cac2c995cb8479a",
              "IPY_MODEL_96f2e5435edf4c3b880d10913fd728a9",
              "IPY_MODEL_613b0ed90285458e96d3cf6cfb79b2c6"
            ],
            "layout": "IPY_MODEL_6701f7877fac4463a8ed2e6244aa95d6"
          }
        },
        "ae2df6a5e3ae47488c317aa8e36905fa": {
          "model_module": "@jupyter-widgets/base",
          "model_module_version": "1.2.0",
          "model_name": "LayoutModel",
          "state": {
            "_model_module": "@jupyter-widgets/base",
            "_model_module_version": "1.2.0",
            "_model_name": "LayoutModel",
            "_view_count": null,
            "_view_module": "@jupyter-widgets/base",
            "_view_module_version": "1.2.0",
            "_view_name": "LayoutView",
            "align_content": null,
            "align_items": null,
            "align_self": null,
            "border": null,
            "bottom": null,
            "display": "inline-flex",
            "flex": null,
            "flex_flow": "row wrap",
            "grid_area": null,
            "grid_auto_columns": null,
            "grid_auto_flow": null,
            "grid_auto_rows": null,
            "grid_column": null,
            "grid_gap": null,
            "grid_row": null,
            "grid_template_areas": null,
            "grid_template_columns": null,
            "grid_template_rows": null,
            "height": null,
            "justify_content": null,
            "justify_items": null,
            "left": null,
            "margin": null,
            "max_height": null,
            "max_width": null,
            "min_height": null,
            "min_width": null,
            "object_fit": null,
            "object_position": null,
            "order": null,
            "overflow": null,
            "overflow_x": null,
            "overflow_y": null,
            "padding": null,
            "right": null,
            "top": null,
            "visibility": null,
            "width": "100%"
          }
        },
        "ae93af4a23e74778915751c18b04304b": {
          "model_module": "@jupyter-widgets/base",
          "model_module_version": "1.2.0",
          "model_name": "LayoutModel",
          "state": {
            "_model_module": "@jupyter-widgets/base",
            "_model_module_version": "1.2.0",
            "_model_name": "LayoutModel",
            "_view_count": null,
            "_view_module": "@jupyter-widgets/base",
            "_view_module_version": "1.2.0",
            "_view_name": "LayoutView",
            "align_content": null,
            "align_items": null,
            "align_self": null,
            "border": null,
            "bottom": null,
            "display": null,
            "flex": null,
            "flex_flow": null,
            "grid_area": null,
            "grid_auto_columns": null,
            "grid_auto_flow": null,
            "grid_auto_rows": null,
            "grid_column": null,
            "grid_gap": null,
            "grid_row": null,
            "grid_template_areas": null,
            "grid_template_columns": null,
            "grid_template_rows": null,
            "height": null,
            "justify_content": null,
            "justify_items": null,
            "left": null,
            "margin": null,
            "max_height": null,
            "max_width": null,
            "min_height": null,
            "min_width": null,
            "object_fit": null,
            "object_position": null,
            "order": null,
            "overflow": null,
            "overflow_x": null,
            "overflow_y": null,
            "padding": null,
            "right": null,
            "top": null,
            "visibility": null,
            "width": null
          }
        },
        "b4b9b089474248e79cf3156674ede69a": {
          "model_module": "@jupyter-widgets/controls",
          "model_module_version": "1.5.0",
          "model_name": "FloatProgressModel",
          "state": {
            "_dom_classes": [],
            "_model_module": "@jupyter-widgets/controls",
            "_model_module_version": "1.5.0",
            "_model_name": "FloatProgressModel",
            "_view_count": null,
            "_view_module": "@jupyter-widgets/controls",
            "_view_module_version": "1.5.0",
            "_view_name": "ProgressView",
            "bar_style": "success",
            "description": "",
            "description_tooltip": null,
            "layout": "IPY_MODEL_354aa2672b134d45b842f5396f6ff4bb",
            "max": 100,
            "min": 0,
            "orientation": "horizontal",
            "style": "IPY_MODEL_45ce28e7f66344148cf5311c48e34b9e",
            "value": 100
          }
        },
        "bb193b3e035348cb886cdd092eb8037a": {
          "model_module": "@jupyter-widgets/controls",
          "model_module_version": "1.5.0",
          "model_name": "HBoxModel",
          "state": {
            "_dom_classes": [],
            "_model_module": "@jupyter-widgets/controls",
            "_model_module_version": "1.5.0",
            "_model_name": "HBoxModel",
            "_view_count": null,
            "_view_module": "@jupyter-widgets/controls",
            "_view_module_version": "1.5.0",
            "_view_name": "HBoxView",
            "box_style": "",
            "children": [
              "IPY_MODEL_6749898d91e149cb8a5633474e4d6ba5",
              "IPY_MODEL_624c0036882f4fe6ad1930336810d6ee",
              "IPY_MODEL_f0a36c9de61344519e246951c1f87094"
            ],
            "layout": "IPY_MODEL_ae2df6a5e3ae47488c317aa8e36905fa"
          }
        },
        "bb1a58c17f2e418e84288bbe6f715e4e": {
          "model_module": "@jupyter-widgets/controls",
          "model_module_version": "1.5.0",
          "model_name": "HTMLModel",
          "state": {
            "_dom_classes": [],
            "_model_module": "@jupyter-widgets/controls",
            "_model_module_version": "1.5.0",
            "_model_name": "HTMLModel",
            "_view_count": null,
            "_view_module": "@jupyter-widgets/controls",
            "_view_module_version": "1.5.0",
            "_view_name": "HTMLView",
            "description": "",
            "description_tooltip": null,
            "layout": "IPY_MODEL_016fe93fae324f16869373d98456d19b",
            "placeholder": "​",
            "style": "IPY_MODEL_0fe010bb02bd4f0fa96c01bf126bee64",
            "value": "Epochs: 100%"
          }
        },
        "cc3cc6ef08954b3cabc7f29e26204fd5": {
          "model_module": "@jupyter-widgets/base",
          "model_module_version": "1.2.0",
          "model_name": "LayoutModel",
          "state": {
            "_model_module": "@jupyter-widgets/base",
            "_model_module_version": "1.2.0",
            "_model_name": "LayoutModel",
            "_view_count": null,
            "_view_module": "@jupyter-widgets/base",
            "_view_module_version": "1.2.0",
            "_view_name": "LayoutView",
            "align_content": null,
            "align_items": null,
            "align_self": null,
            "border": null,
            "bottom": null,
            "display": null,
            "flex": null,
            "flex_flow": null,
            "grid_area": null,
            "grid_auto_columns": null,
            "grid_auto_flow": null,
            "grid_auto_rows": null,
            "grid_column": null,
            "grid_gap": null,
            "grid_row": null,
            "grid_template_areas": null,
            "grid_template_columns": null,
            "grid_template_rows": null,
            "height": null,
            "justify_content": null,
            "justify_items": null,
            "left": null,
            "margin": null,
            "max_height": null,
            "max_width": null,
            "min_height": null,
            "min_width": null,
            "object_fit": null,
            "object_position": null,
            "order": null,
            "overflow": null,
            "overflow_x": null,
            "overflow_y": null,
            "padding": null,
            "right": null,
            "top": null,
            "visibility": null,
            "width": null
          }
        },
        "ce141c91e9d14f0fbbabb238f9556c47": {
          "model_module": "@jupyter-widgets/controls",
          "model_module_version": "1.5.0",
          "model_name": "ProgressStyleModel",
          "state": {
            "_model_module": "@jupyter-widgets/controls",
            "_model_module_version": "1.5.0",
            "_model_name": "ProgressStyleModel",
            "_view_count": null,
            "_view_module": "@jupyter-widgets/base",
            "_view_module_version": "1.2.0",
            "_view_name": "StyleView",
            "bar_color": null,
            "description_width": ""
          }
        },
        "d6698806a08345919ebac1efc2c3117e": {
          "model_module": "@jupyter-widgets/controls",
          "model_module_version": "1.5.0",
          "model_name": "HTMLModel",
          "state": {
            "_dom_classes": [],
            "_model_module": "@jupyter-widgets/controls",
            "_model_module_version": "1.5.0",
            "_model_name": "HTMLModel",
            "_view_count": null,
            "_view_module": "@jupyter-widgets/controls",
            "_view_module_version": "1.5.0",
            "_view_name": "HTMLView",
            "description": "",
            "description_tooltip": null,
            "layout": "IPY_MODEL_cc3cc6ef08954b3cabc7f29e26204fd5",
            "placeholder": "​",
            "style": "IPY_MODEL_fa626c204319465297467d68bad5ec9f",
            "value": "Epochs: 100%"
          }
        },
        "e6f5d4ed39ff4e20aa2b954cc4d10c05": {
          "model_module": "@jupyter-widgets/base",
          "model_module_version": "1.2.0",
          "model_name": "LayoutModel",
          "state": {
            "_model_module": "@jupyter-widgets/base",
            "_model_module_version": "1.2.0",
            "_model_name": "LayoutModel",
            "_view_count": null,
            "_view_module": "@jupyter-widgets/base",
            "_view_module_version": "1.2.0",
            "_view_name": "LayoutView",
            "align_content": null,
            "align_items": null,
            "align_self": null,
            "border": null,
            "bottom": null,
            "display": "inline-flex",
            "flex": null,
            "flex_flow": "row wrap",
            "grid_area": null,
            "grid_auto_columns": null,
            "grid_auto_flow": null,
            "grid_auto_rows": null,
            "grid_column": null,
            "grid_gap": null,
            "grid_row": null,
            "grid_template_areas": null,
            "grid_template_columns": null,
            "grid_template_rows": null,
            "height": null,
            "justify_content": null,
            "justify_items": null,
            "left": null,
            "margin": null,
            "max_height": null,
            "max_width": null,
            "min_height": null,
            "min_width": null,
            "object_fit": null,
            "object_position": null,
            "order": null,
            "overflow": null,
            "overflow_x": null,
            "overflow_y": null,
            "padding": null,
            "right": null,
            "top": null,
            "visibility": null,
            "width": "100%"
          }
        },
        "e8cc323316184d29a8bfa7614f348edb": {
          "model_module": "@jupyter-widgets/controls",
          "model_module_version": "1.5.0",
          "model_name": "DescriptionStyleModel",
          "state": {
            "_model_module": "@jupyter-widgets/controls",
            "_model_module_version": "1.5.0",
            "_model_name": "DescriptionStyleModel",
            "_view_count": null,
            "_view_module": "@jupyter-widgets/base",
            "_view_module_version": "1.2.0",
            "_view_name": "StyleView",
            "description_width": ""
          }
        },
        "eb0e0670099b4a8aba17d8fe857a2a42": {
          "model_module": "@jupyter-widgets/base",
          "model_module_version": "1.2.0",
          "model_name": "LayoutModel",
          "state": {
            "_model_module": "@jupyter-widgets/base",
            "_model_module_version": "1.2.0",
            "_model_name": "LayoutModel",
            "_view_count": null,
            "_view_module": "@jupyter-widgets/base",
            "_view_module_version": "1.2.0",
            "_view_name": "LayoutView",
            "align_content": null,
            "align_items": null,
            "align_self": null,
            "border": null,
            "bottom": null,
            "display": "inline-flex",
            "flex": null,
            "flex_flow": "row wrap",
            "grid_area": null,
            "grid_auto_columns": null,
            "grid_auto_flow": null,
            "grid_auto_rows": null,
            "grid_column": null,
            "grid_gap": null,
            "grid_row": null,
            "grid_template_areas": null,
            "grid_template_columns": null,
            "grid_template_rows": null,
            "height": null,
            "justify_content": null,
            "justify_items": null,
            "left": null,
            "margin": null,
            "max_height": null,
            "max_width": null,
            "min_height": null,
            "min_width": null,
            "object_fit": null,
            "object_position": null,
            "order": null,
            "overflow": null,
            "overflow_x": null,
            "overflow_y": null,
            "padding": null,
            "right": null,
            "top": null,
            "visibility": null,
            "width": "100%"
          }
        },
        "f0a36c9de61344519e246951c1f87094": {
          "model_module": "@jupyter-widgets/controls",
          "model_module_version": "1.5.0",
          "model_name": "HTMLModel",
          "state": {
            "_dom_classes": [],
            "_model_module": "@jupyter-widgets/controls",
            "_model_module_version": "1.5.0",
            "_model_name": "HTMLModel",
            "_view_count": null,
            "_view_module": "@jupyter-widgets/controls",
            "_view_module_version": "1.5.0",
            "_view_name": "HTMLView",
            "description": "",
            "description_tooltip": null,
            "layout": "IPY_MODEL_8a57aa93628344258a8a890abcfc35a6",
            "placeholder": "​",
            "style": "IPY_MODEL_28224ca5c3534fb9bddb9809e2866c48",
            "value": " 100/100 [02:50&lt;00:00,  1.70s/it]"
          }
        },
        "f431f18287d54d2f9f62371130f667a1": {
          "model_module": "@jupyter-widgets/controls",
          "model_module_version": "1.5.0",
          "model_name": "HTMLModel",
          "state": {
            "_dom_classes": [],
            "_model_module": "@jupyter-widgets/controls",
            "_model_module_version": "1.5.0",
            "_model_name": "HTMLModel",
            "_view_count": null,
            "_view_module": "@jupyter-widgets/controls",
            "_view_module_version": "1.5.0",
            "_view_name": "HTMLView",
            "description": "",
            "description_tooltip": null,
            "layout": "IPY_MODEL_90479dc1940d46dbafa70437e773b0e7",
            "placeholder": "​",
            "style": "IPY_MODEL_e8cc323316184d29a8bfa7614f348edb",
            "value": " 100/100 [02:50&lt;00:00,  1.70s/it]"
          }
        },
        "f49c7efca39d4008922b48d49b8dc632": {
          "model_module": "@jupyter-widgets/base",
          "model_module_version": "1.2.0",
          "model_name": "LayoutModel",
          "state": {
            "_model_module": "@jupyter-widgets/base",
            "_model_module_version": "1.2.0",
            "_model_name": "LayoutModel",
            "_view_count": null,
            "_view_module": "@jupyter-widgets/base",
            "_view_module_version": "1.2.0",
            "_view_name": "LayoutView",
            "align_content": null,
            "align_items": null,
            "align_self": null,
            "border": null,
            "bottom": null,
            "display": null,
            "flex": null,
            "flex_flow": null,
            "grid_area": null,
            "grid_auto_columns": null,
            "grid_auto_flow": null,
            "grid_auto_rows": null,
            "grid_column": null,
            "grid_gap": null,
            "grid_row": null,
            "grid_template_areas": null,
            "grid_template_columns": null,
            "grid_template_rows": null,
            "height": null,
            "justify_content": null,
            "justify_items": null,
            "left": null,
            "margin": null,
            "max_height": null,
            "max_width": null,
            "min_height": null,
            "min_width": null,
            "object_fit": null,
            "object_position": null,
            "order": null,
            "overflow": null,
            "overflow_x": null,
            "overflow_y": null,
            "padding": null,
            "right": null,
            "top": null,
            "visibility": null,
            "width": null
          }
        },
        "fa626c204319465297467d68bad5ec9f": {
          "model_module": "@jupyter-widgets/controls",
          "model_module_version": "1.5.0",
          "model_name": "DescriptionStyleModel",
          "state": {
            "_model_module": "@jupyter-widgets/controls",
            "_model_module_version": "1.5.0",
            "_model_name": "DescriptionStyleModel",
            "_view_count": null,
            "_view_module": "@jupyter-widgets/base",
            "_view_module_version": "1.2.0",
            "_view_name": "StyleView",
            "description_width": ""
          }
        },
        "fda92a2bf55d47afabeeec54db21737b": {
          "model_module": "@jupyter-widgets/controls",
          "model_module_version": "1.5.0",
          "model_name": "DescriptionStyleModel",
          "state": {
            "_model_module": "@jupyter-widgets/controls",
            "_model_module_version": "1.5.0",
            "_model_name": "DescriptionStyleModel",
            "_view_count": null,
            "_view_module": "@jupyter-widgets/base",
            "_view_module_version": "1.2.0",
            "_view_name": "StyleView",
            "description_width": ""
          }
        }
      }
    }
  },
  "nbformat": 4,
  "nbformat_minor": 0
}
